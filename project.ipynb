{
 "cells": [
  {
   "cell_type": "code",
   "execution_count": 36,
   "metadata": {},
   "outputs": [],
   "source": [
    "# This code cell should be run first. It imports all of the libraries used in the study. \n",
    "import numpy as np\n",
    "import pandas as pd\n",
    "import matplotlib.pyplot as plt\n",
    "import seaborn as sns\n",
    "import scipy.stats as stats\n",
    "import statsmodels.graphics.gofplots as statmod\n",
    "import keras as kr\n",
    "import sklearn.preprocessing as pre\n",
    "import sklearn.decomposition as dec\n",
    "import sklearn.model_selection as mod"
   ]
  },
  {
   "cell_type": "markdown",
   "metadata": {},
   "source": [
    "# 1. Introduction\n",
    "\n",
    "I work for a major multi-national company which is planning to move its corporate headquarters to Boston. This would require the relocation of upwards of 200 employees to the city.\n",
    "\n",
    "The first choice location is the Financial District by the Charles river, but senior management have raised concerns that house prices are more expensive by the Charles river than an alternate location in the suburbs.\n",
    "\n",
    "I have been tasked with the goal of investigating if there is a statistically significant difference in house prices between houses near the Charles river and those that are not. I am to use the **Boston House Price Dataset.** to investigate the question.\n",
    "\n",
    "Firstly, i will look at research and up to date information in the media to attempt to construct a **hypothesis** as to what answer the data analysis may provide. \n",
    "\n",
    "Secondly, i will introduce the **Boston House Price Dataset.** The dataset contains a lot of data and i will isolate the variables relevant to testing my hypothesis. \n",
    "\n",
    "I will then use **descriptive statistics** and plotting to investigate if there is a difference in house prices. \n",
    "\n",
    "If the descriptive statistics suggest that there may be a difference, i will then use **inferential statistics** to discover if there is a statistically significant difference in median house prices between properties near and not near the Charles River. \n",
    "\n",
    "Finally, using all of the variables in the dataset, i will create a **neural network** using Keras to see if i can predict the median house price of a property based on the other variables in the dataset. \n",
    "\n"
   ]
  },
  {
   "cell_type": "markdown",
   "metadata": {},
   "source": [
    "## 1.1 Hypothesis\n",
    "\n",
    "Harvard University, Massachusetts Institute of Technology, Boston University and Northeastern University are all located in this area beside or near the Charles River, making it one of the most desirable educational centres in the world. \n",
    "\n",
    "While this makes the area very desirable for attracting top talent to the company, it does suggest that house prices will be very high. \n",
    "\n",
    "Indeed, the *Boston Business Journal** states that 4 of the 5 districts responsible for the economically booming *Mass Miracle 2.0* are near the Charles river: The Back Bay, Kendall Square, Fenway and the Financial District (1).\n",
    "\n",
    "*NeighborhoodX Boston* find that Beacon Hill, Fenway, and the Financial District (all bounding the river) are the most expensive districts in the city where property prices are over $1,000 per square foot (2). \n",
    "\n",
    "While the Financial District is a very attractive location for our business, properties on the Charles River will be significantly more expensive than alternatives. \n",
    "\n",
    "i will hypothesis the following: **Median house prices are significantly higher in properties that bound the Charles River.**\n",
    "\n",
    "I will investigate the hypothesis by analysing the Boston House Prices Dataset which is introduced in the next section.\n",
    "\n"
   ]
  },
  {
   "cell_type": "markdown",
   "metadata": {},
   "source": [
    "## 1.2 Boston House Prices Dataset "
   ]
  },
  {
   "cell_type": "markdown",
   "metadata": {},
   "source": [
    "\n",
    "\n",
    "The Boston House Prices Dataset is a famous dataset used in data analysis and machine learning and was introduced in the study *Hedonic Housing Prices and the Demand for Clean Air* by Harrison and Rubenfeld (3). \n",
    "\n",
    "The dataset can easily be loaded from *sklearn* "
   ]
  },
  {
   "cell_type": "code",
   "execution_count": 37,
   "metadata": {},
   "outputs": [],
   "source": [
    "# It is loaded following instructions here: https://towardsdatascience.com/linear-regression-on-boston-housing-dataset-f409b7e4a155\n",
    "\n",
    "from sklearn.datasets import load_boston # dataset comes as part of sklearn. \n",
    "boston = load_boston() # The dataset is stored as the variable boston"
   ]
  },
  {
   "cell_type": "code",
   "execution_count": 38,
   "metadata": {
    "scrolled": true
   },
   "outputs": [
    {
     "name": "stdout",
     "output_type": "stream",
     "text": [
      "dict_keys(['data', 'target', 'feature_names', 'DESCR', 'filename'])\n"
     ]
    }
   ],
   "source": [
    "print(boston.keys()) # The dataset is a dictionary. It includes the following keys."
   ]
  },
  {
   "cell_type": "code",
   "execution_count": 39,
   "metadata": {},
   "outputs": [
    {
     "name": "stdout",
     "output_type": "stream",
     "text": [
      ".. _boston_dataset:\n",
      "\n",
      "Boston house prices dataset\n",
      "---------------------------\n",
      "\n",
      "**Data Set Characteristics:**  \n",
      "\n",
      "    :Number of Instances: 506 \n",
      "\n",
      "    :Number of Attributes: 13 numeric/categorical predictive. Median Value (attribute 14) is usually the target.\n",
      "\n",
      "    :Attribute Information (in order):\n",
      "        - CRIM     per capita crime rate by town\n",
      "        - ZN       proportion of residential land zoned for lots over 25,000 sq.ft.\n",
      "        - INDUS    proportion of non-retail business acres per town\n",
      "        - CHAS     Charles River dummy variable (= 1 if tract bounds river; 0 otherwise)\n",
      "        - NOX      nitric oxides concentration (parts per 10 million)\n",
      "        - RM       average number of rooms per dwelling\n",
      "        - AGE      proportion of owner-occupied units built prior to 1940\n",
      "        - DIS      weighted distances to five Boston employment centres\n",
      "        - RAD      index of accessibility to radial highways\n",
      "        - TAX      full-value property-tax rate per $10,000\n",
      "        - PTRATIO  pupil-teacher ratio by town\n",
      "        - B        1000(Bk - 0.63)^2 where Bk is the proportion of blacks by town\n",
      "        - LSTAT    % lower status of the population\n",
      "        - MEDV     Median value of owner-occupied homes in $1000's\n",
      "\n",
      "    :Missing Attribute Values: None\n",
      "\n",
      "    :Creator: Harrison, D. and Rubinfeld, D.L.\n",
      "\n",
      "This is a copy of UCI ML housing dataset.\n",
      "https://archive.ics.uci.edu/ml/machine-learning-databases/housing/\n",
      "\n",
      "\n",
      "This dataset was taken from the StatLib library which is maintained at Carnegie Mellon University.\n",
      "\n",
      "The Boston house-price data of Harrison, D. and Rubinfeld, D.L. 'Hedonic\n",
      "prices and the demand for clean air', J. Environ. Economics & Management,\n",
      "vol.5, 81-102, 1978.   Used in Belsley, Kuh & Welsch, 'Regression diagnostics\n",
      "...', Wiley, 1980.   N.B. Various transformations are used in the table on\n",
      "pages 244-261 of the latter.\n",
      "\n",
      "The Boston house-price data has been used in many machine learning papers that address regression\n",
      "problems.   \n",
      "     \n",
      ".. topic:: References\n",
      "\n",
      "   - Belsley, Kuh & Welsch, 'Regression diagnostics: Identifying Influential Data and Sources of Collinearity', Wiley, 1980. 244-261.\n",
      "   - Quinlan,R. (1993). Combining Instance-Based and Model-Based Learning. In Proceedings on the Tenth International Conference of Machine Learning, 236-243, University of Massachusetts, Amherst. Morgan Kaufmann.\n",
      "\n"
     ]
    }
   ],
   "source": [
    "print(boston.DESCR) # The DESCR object gives a detailed overview of the variables in the dataset. "
   ]
  },
  {
   "cell_type": "markdown",
   "metadata": {},
   "source": [
    "As one can see above, there are 14 different variables in this dataset. Each **datapoint** represents a particular tract of Boston.   \n",
    "\n",
    "In the **Descriptive** and **Inferential** sections of this study, we are interested in the Median value of owner-occupied homes in $1000s **MEDV** and the Charles River dummy variable (= 1 if tract bounds river; 0 otherwise) **CHAS**  \n",
    "\n",
    "CHAS is a **dichotomous binary categorical variable** denoting if the tract bounds the Charles river or not. **1** means that the property is in a tract which bounds the river. **0** means that the tract does not bound the river.  \n",
    "\n",
    "MEDV is a **numeric variable** and denotes the Median value of owner-occupied homes in the tract.\n",
    "\n",
    "CHAS is the **independent variable** that we expect will cause a change to the **dependent variable** MEDV. Based on my hypothesis, i would expect that tracts bounding the Charles River would have a higher median value. \n",
    "\n",
    "I have now isolated the two variables we will study. In the next section, i will attempt to describe them using plots and descriptive statistics.\n",
    "\n",
    "From now on i will refer to the two variables by their names: **CHAS** and **MEDV** Furthermore, **near** the Charles river and **far** from the river will be used to describe the binary variable. "
   ]
  },
  {
   "cell_type": "code",
   "execution_count": 40,
   "metadata": {},
   "outputs": [],
   "source": [
    "bostonDF = pd.DataFrame(boston.data, columns=boston.feature_names) ## a Pandas dataframe is created with column names"
   ]
  },
  {
   "cell_type": "code",
   "execution_count": 41,
   "metadata": {},
   "outputs": [],
   "source": [
    "bostonDF['MEDV'] = boston.target ## Another column is added containing the MEDV variable. "
   ]
  },
  {
   "cell_type": "code",
   "execution_count": 42,
   "metadata": {},
   "outputs": [
    {
     "data": {
      "text/html": [
       "<div>\n",
       "<style scoped>\n",
       "    .dataframe tbody tr th:only-of-type {\n",
       "        vertical-align: middle;\n",
       "    }\n",
       "\n",
       "    .dataframe tbody tr th {\n",
       "        vertical-align: top;\n",
       "    }\n",
       "\n",
       "    .dataframe thead th {\n",
       "        text-align: right;\n",
       "    }\n",
       "</style>\n",
       "<table border=\"1\" class=\"dataframe\">\n",
       "  <thead>\n",
       "    <tr style=\"text-align: right;\">\n",
       "      <th></th>\n",
       "      <th>CRIM</th>\n",
       "      <th>ZN</th>\n",
       "      <th>INDUS</th>\n",
       "      <th>CHAS</th>\n",
       "      <th>NOX</th>\n",
       "      <th>RM</th>\n",
       "      <th>AGE</th>\n",
       "      <th>DIS</th>\n",
       "      <th>RAD</th>\n",
       "      <th>TAX</th>\n",
       "      <th>PTRATIO</th>\n",
       "      <th>B</th>\n",
       "      <th>LSTAT</th>\n",
       "      <th>MEDV</th>\n",
       "    </tr>\n",
       "  </thead>\n",
       "  <tbody>\n",
       "    <tr>\n",
       "      <th>0</th>\n",
       "      <td>0.00632</td>\n",
       "      <td>18.0</td>\n",
       "      <td>2.31</td>\n",
       "      <td>0.0</td>\n",
       "      <td>0.538</td>\n",
       "      <td>6.575</td>\n",
       "      <td>65.2</td>\n",
       "      <td>4.0900</td>\n",
       "      <td>1.0</td>\n",
       "      <td>296.0</td>\n",
       "      <td>15.3</td>\n",
       "      <td>396.90</td>\n",
       "      <td>4.98</td>\n",
       "      <td>24.0</td>\n",
       "    </tr>\n",
       "    <tr>\n",
       "      <th>1</th>\n",
       "      <td>0.02731</td>\n",
       "      <td>0.0</td>\n",
       "      <td>7.07</td>\n",
       "      <td>0.0</td>\n",
       "      <td>0.469</td>\n",
       "      <td>6.421</td>\n",
       "      <td>78.9</td>\n",
       "      <td>4.9671</td>\n",
       "      <td>2.0</td>\n",
       "      <td>242.0</td>\n",
       "      <td>17.8</td>\n",
       "      <td>396.90</td>\n",
       "      <td>9.14</td>\n",
       "      <td>21.6</td>\n",
       "    </tr>\n",
       "    <tr>\n",
       "      <th>2</th>\n",
       "      <td>0.02729</td>\n",
       "      <td>0.0</td>\n",
       "      <td>7.07</td>\n",
       "      <td>0.0</td>\n",
       "      <td>0.469</td>\n",
       "      <td>7.185</td>\n",
       "      <td>61.1</td>\n",
       "      <td>4.9671</td>\n",
       "      <td>2.0</td>\n",
       "      <td>242.0</td>\n",
       "      <td>17.8</td>\n",
       "      <td>392.83</td>\n",
       "      <td>4.03</td>\n",
       "      <td>34.7</td>\n",
       "    </tr>\n",
       "    <tr>\n",
       "      <th>3</th>\n",
       "      <td>0.03237</td>\n",
       "      <td>0.0</td>\n",
       "      <td>2.18</td>\n",
       "      <td>0.0</td>\n",
       "      <td>0.458</td>\n",
       "      <td>6.998</td>\n",
       "      <td>45.8</td>\n",
       "      <td>6.0622</td>\n",
       "      <td>3.0</td>\n",
       "      <td>222.0</td>\n",
       "      <td>18.7</td>\n",
       "      <td>394.63</td>\n",
       "      <td>2.94</td>\n",
       "      <td>33.4</td>\n",
       "    </tr>\n",
       "    <tr>\n",
       "      <th>4</th>\n",
       "      <td>0.06905</td>\n",
       "      <td>0.0</td>\n",
       "      <td>2.18</td>\n",
       "      <td>0.0</td>\n",
       "      <td>0.458</td>\n",
       "      <td>7.147</td>\n",
       "      <td>54.2</td>\n",
       "      <td>6.0622</td>\n",
       "      <td>3.0</td>\n",
       "      <td>222.0</td>\n",
       "      <td>18.7</td>\n",
       "      <td>396.90</td>\n",
       "      <td>5.33</td>\n",
       "      <td>36.2</td>\n",
       "    </tr>\n",
       "  </tbody>\n",
       "</table>\n",
       "</div>"
      ],
      "text/plain": [
       "      CRIM    ZN  INDUS  CHAS    NOX     RM   AGE     DIS  RAD    TAX  \\\n",
       "0  0.00632  18.0   2.31   0.0  0.538  6.575  65.2  4.0900  1.0  296.0   \n",
       "1  0.02731   0.0   7.07   0.0  0.469  6.421  78.9  4.9671  2.0  242.0   \n",
       "2  0.02729   0.0   7.07   0.0  0.469  7.185  61.1  4.9671  2.0  242.0   \n",
       "3  0.03237   0.0   2.18   0.0  0.458  6.998  45.8  6.0622  3.0  222.0   \n",
       "4  0.06905   0.0   2.18   0.0  0.458  7.147  54.2  6.0622  3.0  222.0   \n",
       "\n",
       "   PTRATIO       B  LSTAT  MEDV  \n",
       "0     15.3  396.90   4.98  24.0  \n",
       "1     17.8  396.90   9.14  21.6  \n",
       "2     17.8  392.83   4.03  34.7  \n",
       "3     18.7  394.63   2.94  33.4  \n",
       "4     18.7  396.90   5.33  36.2  "
      ]
     },
     "execution_count": 42,
     "metadata": {},
     "output_type": "execute_result"
    }
   ],
   "source": [
    "bostonDF.head() "
   ]
  },
  {
   "cell_type": "markdown",
   "metadata": {},
   "source": [
    "# 2. Descriptive Statistics"
   ]
  },
  {
   "cell_type": "markdown",
   "metadata": {},
   "source": [
    "The first step is to create a bar chart comparing the mean of MDV near and far from the river. \n",
    "\n",
    "Houses near the Charles River have a mean MDV of around 28000 and those far from the river have a mean of 22000\n",
    "\n"
   ]
  },
  {
   "cell_type": "code",
   "execution_count": 43,
   "metadata": {},
   "outputs": [],
   "source": [
    "bostonFar = bostonDF.loc[bostonDF['CHAS'] == 0] ## divides the boston DF based on near or far from the Charles river \n",
    "bostonNear = bostonDF.loc[bostonDF['CHAS'] == 1]"
   ]
  },
  {
   "cell_type": "code",
   "execution_count": 44,
   "metadata": {},
   "outputs": [
    {
     "data": {
      "text/plain": [
       "22.0"
      ]
     },
     "execution_count": 44,
     "metadata": {},
     "output_type": "execute_result"
    }
   ],
   "source": [
    "np.round(bostonFar[\"MEDV\"].mean()) ## mean of MDV Far from Charles River "
   ]
  },
  {
   "cell_type": "code",
   "execution_count": 45,
   "metadata": {},
   "outputs": [
    {
     "data": {
      "text/plain": [
       "28.0"
      ]
     },
     "execution_count": 45,
     "metadata": {},
     "output_type": "execute_result"
    }
   ],
   "source": [
    "np.round(bostonNear[\"MEDV\"].mean()) ## mean of MDV Near Charles River "
   ]
  },
  {
   "cell_type": "code",
   "execution_count": 46,
   "metadata": {},
   "outputs": [
    {
     "data": {
      "image/png": "[encoded data removed]",
      "text/plain": [
       "<Figure size 432x288 with 1 Axes>"
      ]
     },
     "metadata": {
      "needs_background": "light"
     },
     "output_type": "display_data"
    }
   ],
   "source": [
    "sns.barplot(y=\"MEDV\", x=\"CHAS\", ci=None, data=bostonDF)\n",
    "plt.xlabel('Charles River:  0 Far | 1 Near')\n",
    "plt.ylabel('Median House Value $1000')\n",
    "plt.title(\"Mean of House Prices\")\n",
    "plt.show()\n"
   ]
  },
  {
   "cell_type": "markdown",
   "metadata": {},
   "source": [
    "While the Bar Chart suggests that there is a significant difference in house prices near and far from the river, it is important to note that mean comparisons abstracts a lot of detail from the data itself and potentially gives a false impression. \n",
    "\n",
    "The Bar Chart does not tell us the spread of the data and the mean statistic can be negatively influenced by outliers or a skewed distribution (4). \n",
    "\n",
    "Exploratory Data Analysis (EDA) recommends that we observe the raw data first so that we can get a clearer picture of the dataset (5).\n",
    "\n",
    "In *seaborn*, a swarmplot is a useful graph as it plots each datapoint allowing us to see the size and distribution of the dataset and if there are any outliers.\n"
   ]
  },
  {
   "cell_type": "code",
   "execution_count": 47,
   "metadata": {},
   "outputs": [
    {
     "data": {
      "image/png": "[encoded data removed]",
      "text/plain": [
       "<Figure size 432x288 with 1 Axes>"
      ]
     },
     "metadata": {
      "needs_background": "light"
     },
     "output_type": "display_data"
    }
   ],
   "source": [
    "sns.swarmplot(x=\"CHAS\", y=\"MEDV\", data=bostonDF)\n",
    "plt.xlabel('Charles River:  0 Far | 1 Near')\n",
    "plt.ylabel('Median House Value $1000')\n",
    "plt.title(\"Swarmplot of median house prices\")\n",
    "plt.show()"
   ]
  },
  {
   "cell_type": "markdown",
   "metadata": {},
   "source": [
    "The swarmplot gives a much more nuanced picture of the dataset. There are many more tracts far from the river than those that bound it.The Near variable has a large group of tracts clustered at the €50000 level, then a big gap to the other datapoints which are similar to the Far datapoints. On the other hand, the large majority of Far datapoints are below the €25000 figure. \n",
    "\n",
    "Tuckey (6) suggests that the **Five Number Summary** is a more robust set of summary statistics to represent a dataset than the mean. It can be plotted using a boxplot. The end of each whisker represents the **minimum** and **maximum** value. The **inter quartile range** (IQR) is the box and contains the middle 50% of the data. The line inside the box is the **median**; the middle value in the dataset. Any points outside of the boxplot are **outliers**. "
   ]
  },
  {
   "cell_type": "code",
   "execution_count": 48,
   "metadata": {},
   "outputs": [
    {
     "data": {
      "image/png": "[encoded data removed]",
      "text/plain": [
       "<Figure size 432x288 with 1 Axes>"
      ]
     },
     "metadata": {
      "needs_background": "light"
     },
     "output_type": "display_data"
    }
   ],
   "source": [
    "sns.boxplot(x=\"CHAS\", y=\"MEDV\", data=bostonDF)\n",
    "plt.xlabel('Charles River:  0 Far | 1 Near')\n",
    "plt.ylabel('Median House Value $1000')\n",
    "plt.title(\"Boxplt of median house prices\")\n",
    "plt.show()"
   ]
  },
  {
   "cell_type": "markdown",
   "metadata": {},
   "source": [
    "The boxplot above shows that, though they overlap, the **IQR** of both datasets seem quite distinct. The Far dataset also appears to have some extreme high values **outliers**.\n",
    "\n",
    "Overall, the **Descriptive Statistics** suggests that there may be a difference in median house houses depending on proximity to the Charles river. In the next section, i will use **inferential statistics** to see if this difference is statistically significant.  "
   ]
  },
  {
   "cell_type": "markdown",
   "metadata": {},
   "source": [
    "# 3. Inferential Statistics"
   ]
  },
  {
   "cell_type": "markdown",
   "metadata": {},
   "source": [
    "We have two **independent groups** namely, tracts of land in Boston. **CHAS** the independent (explanatory) variable is a **nominal binary** variable: 1 for a tract near the Charles river, 0 if a tract is not. **MEDV** the **dependent** (outcome) variable is **numeric** representing the median house price of dwellings in the tract. In order to compare the mean of two independent groups, one would normally use an **independent t-test** (7)."
   ]
  },
  {
   "cell_type": "markdown",
   "metadata": {},
   "source": [
    "An assumption of the independent t-test is that the numeric dependent variable is approximately normally distributed (8). A normally distributed variable will have a bell-shaped histogram. "
   ]
  },
  {
   "cell_type": "code",
   "execution_count": 49,
   "metadata": {},
   "outputs": [
    {
     "data": {
      "image/png": "[encoded data removed]",
      "text/plain": [
       "<Figure size 432x288 with 1 Axes>"
      ]
     },
     "metadata": {
      "needs_background": "light"
     },
     "output_type": "display_data"
    }
   ],
   "source": [
    "bostonNear[\"MEDV\"].hist() # Pandas is used to create a histogram\n",
    "plt.xlabel('Meadian house price in $1000')\n",
    "plt.ylabel('Quantity')\n",
    "plt.title(\" Near Charles River House Price Histogram\")\n",
    "plt.show()"
   ]
  },
  {
   "cell_type": "code",
   "execution_count": 50,
   "metadata": {},
   "outputs": [
    {
     "data": {
      "image/png": "[encoded data removed]",
      "text/plain": [
       "<Figure size 432x288 with 1 Axes>"
      ]
     },
     "metadata": {
      "needs_background": "light"
     },
     "output_type": "display_data"
    }
   ],
   "source": [
    "bostonFar[\"MEDV\"].hist()\n",
    "plt.xlabel('Meadian house price in $1000')\n",
    "plt.ylabel('Quantity')\n",
    "plt.title(\" Far from Charles River House Price Histogram\")\n",
    "plt.show()"
   ]
  },
  {
   "cell_type": "markdown",
   "metadata": {},
   "source": [
    "The histograms above show that the Near dataset is certainly not normally distributed. The Far dataset has more of a bell shape, but is strongly right-skewed. However, due to the unequal sizes of the dataset, a **qqplot** might make it easier to see their respective distributions. \n"
   ]
  },
  {
   "cell_type": "markdown",
   "metadata": {},
   "source": [
    "In a qqplot, a distribution is normally distributed if the data points closely follow the 45 degree line. \n",
    "\n",
    "One can see below that both distributions are of a similar shape and are both right-tailed (9). However, few datapoints lay on the line in either plot, so both the histograms and the qq plots suggest that the data is not normally distributed. \n",
    "\n",
    "\n"
   ]
  },
  {
   "cell_type": "code",
   "execution_count": 51,
   "metadata": {},
   "outputs": [
    {
     "data": {
      "image/png": "[encoded data removed]",
      "text/plain": [
       "<Figure size 432x288 with 1 Axes>"
      ]
     },
     "metadata": {
      "needs_background": "light"
     },
     "output_type": "display_data"
    }
   ],
   "source": [
    "# qq plot should be referenced against 45 degree line: \n",
    "# https://www.itl.nist.gov/div898/handbook/eda/section3/qqplot.htm \n",
    "statmod.qqplot(bostonNear['MEDV'], fit=True, line='45')\n",
    "plt.title(\" Near Charles River House Price QQ Plot\")\n",
    "plt.show()"
   ]
  },
  {
   "cell_type": "code",
   "execution_count": 52,
   "metadata": {},
   "outputs": [
    {
     "data": {
      "image/png": "[encoded data removed]",
      "text/plain": [
       "<Figure size 432x288 with 1 Axes>"
      ]
     },
     "metadata": {
      "needs_background": "light"
     },
     "output_type": "display_data"
    }
   ],
   "source": [
    "statmod.qqplot(bostonFar['MEDV'], fit=True, line='45')\n",
    "plt.title(\" Far from Charles River House Price QQ Plot\")\n",
    "plt.show()"
   ]
  },
  {
   "cell_type": "markdown",
   "metadata": {},
   "source": [
    "Finally, a Shapiro-Wilks test for normality can be done on both datasets. As the P-Value is below 0.05 in both instances, we can reject the null hypotheses that they are normally distributed (10).  "
   ]
  },
  {
   "cell_type": "code",
   "execution_count": 53,
   "metadata": {},
   "outputs": [
    {
     "data": {
      "text/plain": [
       "(0.8359232544898987, 0.00011230883683310822)"
      ]
     },
     "execution_count": 53,
     "metadata": {},
     "output_type": "execute_result"
    }
   ],
   "source": [
    "stats.shapiro(bostonNear['MEDV'])"
   ]
  },
  {
   "cell_type": "code",
   "execution_count": 54,
   "metadata": {},
   "outputs": [
    {
     "data": {
      "text/plain": [
       "(0.9282605051994324, 3.113930960958397e-14)"
      ]
     },
     "execution_count": 54,
     "metadata": {},
     "output_type": "execute_result"
    }
   ],
   "source": [
    "stats.shapiro(bostonFar['MEDV'])"
   ]
  },
  {
   "cell_type": "markdown",
   "metadata": {},
   "source": [
    "As the assumptions for the t-test have not been meet, i will use the non-parametric alternative: the **Mann-Whitney U Test** (7). As the distributions of the independent variables have a similar shape in the qqplots above, i will be able to use the test to compare the **Medians** of both groups (11). "
   ]
  },
  {
   "cell_type": "code",
   "execution_count": 55,
   "metadata": {},
   "outputs": [
    {
     "data": {
      "text/plain": [
       "MannwhitneyuResult(statistic=5605.5, pvalue=0.0007908352505647487)"
      ]
     },
     "execution_count": 55,
     "metadata": {},
     "output_type": "execute_result"
    }
   ],
   "source": [
    "stats.mannwhitneyu(bostonFar['MEDV'], bostonNear['MEDV']) # Mann-Whitney U test performed using scipy"
   ]
  },
  {
   "cell_type": "markdown",
   "metadata": {},
   "source": [
    "As the P-value is less than 0.05, we can reject the null hypothesis that both samples come from the same population. Therefore, the median house price in tracts bounding the Charles River are significantly higher than those not bounding the river (12). The difference is shown in the Bar Plot below. "
   ]
  },
  {
   "cell_type": "code",
   "execution_count": 56,
   "metadata": {},
   "outputs": [
    {
     "data": {
      "image/png": "[encoded data removed]",
      "text/plain": [
       "<Figure size 432x288 with 1 Axes>"
      ]
     },
     "metadata": {
      "needs_background": "light"
     },
     "output_type": "display_data"
    }
   ],
   "source": [
    "from numpy import median # import median from numpy and use it as the estimator for the barplot\n",
    "sns.barplot(y=\"MEDV\", x=\"CHAS\", ci=None, estimator=median, data=bostonDF)\n",
    "plt.xlabel('Charles River:  0 Far | 1 Near')\n",
    "plt.ylabel('Median House Value $1000')\n",
    "plt.title(\"Median of House Prices\")\n",
    "plt.show()\n"
   ]
  },
  {
   "cell_type": "markdown",
   "metadata": {},
   "source": [
    "However, the median difference in house prices is quite small at €2,400. Also, as the swarmplot shows, while there is a cluster of very expensive houses in the tracts near the Charles River, most of the properties are of a similar price to other locations. Therefore, while houses are more expensive near the Charles river, there are many areas in these tracts which are not significantly more expensive. "
   ]
  },
  {
   "cell_type": "code",
   "execution_count": 57,
   "metadata": {},
   "outputs": [
    {
     "data": {
      "text/plain": [
       "2400.0"
      ]
     },
     "execution_count": 57,
     "metadata": {},
     "output_type": "execute_result"
    }
   ],
   "source": [
    "np.round(bostonNear[\"MEDV\"].median() - bostonFar[\"MEDV\"].median(), 1) * 1000"
   ]
  },
  {
   "cell_type": "code",
   "execution_count": 58,
   "metadata": {},
   "outputs": [
    {
     "data": {
      "image/png": "[encoded data removed]",
      "text/plain": [
       "<Figure size 432x288 with 1 Axes>"
      ]
     },
     "metadata": {
      "needs_background": "light"
     },
     "output_type": "display_data"
    }
   ],
   "source": [
    "sns.swarmplot(x=\"CHAS\", y=\"MEDV\", data=bostonDF)\n",
    "plt.xlabel('Charles River:  0 Far | 1 Near')\n",
    "plt.ylabel('Median House Value $1000')\n",
    "plt.title(\"Swarmplot of median house prices\")\n",
    "plt.show()"
   ]
  },
  {
   "cell_type": "markdown",
   "metadata": {},
   "source": [
    "# 4. Neural Network"
   ]
  },
  {
   "cell_type": "code",
   "execution_count": 59,
   "metadata": {},
   "outputs": [
    {
     "data": {
      "text/html": [
       "<div>\n",
       "<style scoped>\n",
       "    .dataframe tbody tr th:only-of-type {\n",
       "        vertical-align: middle;\n",
       "    }\n",
       "\n",
       "    .dataframe tbody tr th {\n",
       "        vertical-align: top;\n",
       "    }\n",
       "\n",
       "    .dataframe thead th {\n",
       "        text-align: right;\n",
       "    }\n",
       "</style>\n",
       "<table border=\"1\" class=\"dataframe\">\n",
       "  <thead>\n",
       "    <tr style=\"text-align: right;\">\n",
       "      <th></th>\n",
       "      <th>CRIM</th>\n",
       "      <th>ZN</th>\n",
       "      <th>INDUS</th>\n",
       "      <th>CHAS</th>\n",
       "      <th>NOX</th>\n",
       "      <th>RM</th>\n",
       "      <th>AGE</th>\n",
       "      <th>DIS</th>\n",
       "      <th>RAD</th>\n",
       "      <th>TAX</th>\n",
       "      <th>PTRATIO</th>\n",
       "      <th>B</th>\n",
       "      <th>LSTAT</th>\n",
       "      <th>MEDV</th>\n",
       "    </tr>\n",
       "  </thead>\n",
       "  <tbody>\n",
       "    <tr>\n",
       "      <th>0</th>\n",
       "      <td>0.00632</td>\n",
       "      <td>18.0</td>\n",
       "      <td>2.31</td>\n",
       "      <td>0.0</td>\n",
       "      <td>0.538</td>\n",
       "      <td>6.575</td>\n",
       "      <td>65.2</td>\n",
       "      <td>4.0900</td>\n",
       "      <td>1.0</td>\n",
       "      <td>296.0</td>\n",
       "      <td>15.3</td>\n",
       "      <td>396.90</td>\n",
       "      <td>4.98</td>\n",
       "      <td>24.0</td>\n",
       "    </tr>\n",
       "    <tr>\n",
       "      <th>1</th>\n",
       "      <td>0.02731</td>\n",
       "      <td>0.0</td>\n",
       "      <td>7.07</td>\n",
       "      <td>0.0</td>\n",
       "      <td>0.469</td>\n",
       "      <td>6.421</td>\n",
       "      <td>78.9</td>\n",
       "      <td>4.9671</td>\n",
       "      <td>2.0</td>\n",
       "      <td>242.0</td>\n",
       "      <td>17.8</td>\n",
       "      <td>396.90</td>\n",
       "      <td>9.14</td>\n",
       "      <td>21.6</td>\n",
       "    </tr>\n",
       "    <tr>\n",
       "      <th>2</th>\n",
       "      <td>0.02729</td>\n",
       "      <td>0.0</td>\n",
       "      <td>7.07</td>\n",
       "      <td>0.0</td>\n",
       "      <td>0.469</td>\n",
       "      <td>7.185</td>\n",
       "      <td>61.1</td>\n",
       "      <td>4.9671</td>\n",
       "      <td>2.0</td>\n",
       "      <td>242.0</td>\n",
       "      <td>17.8</td>\n",
       "      <td>392.83</td>\n",
       "      <td>4.03</td>\n",
       "      <td>34.7</td>\n",
       "    </tr>\n",
       "    <tr>\n",
       "      <th>3</th>\n",
       "      <td>0.03237</td>\n",
       "      <td>0.0</td>\n",
       "      <td>2.18</td>\n",
       "      <td>0.0</td>\n",
       "      <td>0.458</td>\n",
       "      <td>6.998</td>\n",
       "      <td>45.8</td>\n",
       "      <td>6.0622</td>\n",
       "      <td>3.0</td>\n",
       "      <td>222.0</td>\n",
       "      <td>18.7</td>\n",
       "      <td>394.63</td>\n",
       "      <td>2.94</td>\n",
       "      <td>33.4</td>\n",
       "    </tr>\n",
       "    <tr>\n",
       "      <th>4</th>\n",
       "      <td>0.06905</td>\n",
       "      <td>0.0</td>\n",
       "      <td>2.18</td>\n",
       "      <td>0.0</td>\n",
       "      <td>0.458</td>\n",
       "      <td>7.147</td>\n",
       "      <td>54.2</td>\n",
       "      <td>6.0622</td>\n",
       "      <td>3.0</td>\n",
       "      <td>222.0</td>\n",
       "      <td>18.7</td>\n",
       "      <td>396.90</td>\n",
       "      <td>5.33</td>\n",
       "      <td>36.2</td>\n",
       "    </tr>\n",
       "  </tbody>\n",
       "</table>\n",
       "</div>"
      ],
      "text/plain": [
       "      CRIM    ZN  INDUS  CHAS    NOX     RM   AGE     DIS  RAD    TAX  \\\n",
       "0  0.00632  18.0   2.31   0.0  0.538  6.575  65.2  4.0900  1.0  296.0   \n",
       "1  0.02731   0.0   7.07   0.0  0.469  6.421  78.9  4.9671  2.0  242.0   \n",
       "2  0.02729   0.0   7.07   0.0  0.469  7.185  61.1  4.9671  2.0  242.0   \n",
       "3  0.03237   0.0   2.18   0.0  0.458  6.998  45.8  6.0622  3.0  222.0   \n",
       "4  0.06905   0.0   2.18   0.0  0.458  7.147  54.2  6.0622  3.0  222.0   \n",
       "\n",
       "   PTRATIO       B  LSTAT  MEDV  \n",
       "0     15.3  396.90   4.98  24.0  \n",
       "1     17.8  396.90   9.14  21.6  \n",
       "2     17.8  392.83   4.03  34.7  \n",
       "3     18.7  394.63   2.94  33.4  \n",
       "4     18.7  396.90   5.33  36.2  "
      ]
     },
     "execution_count": 59,
     "metadata": {},
     "output_type": "execute_result"
    }
   ],
   "source": [
    "bostonDF.head()"
   ]
  },
  {
   "cell_type": "code",
   "execution_count": 60,
   "metadata": {},
   "outputs": [],
   "source": [
    "bostonDF['NEAR'] = (bostonDF['CHAS'] == 1).astype(np.int) # create two new columns where the value is 1 if true\n",
    "bostonDF['FAR'] = (bostonDF['CHAS'] == 0).astype(np.int)\n"
   ]
  },
  {
   "cell_type": "code",
   "execution_count": 61,
   "metadata": {},
   "outputs": [
    {
     "data": {
      "text/plain": [
       "0    471\n",
       "1     35\n",
       "Name: NEAR, dtype: int64"
      ]
     },
     "execution_count": 61,
     "metadata": {},
     "output_type": "execute_result"
    }
   ],
   "source": [
    "# https://stackoverflow.com/questions/22391433/count-the-frequency-that-a-value-occurs-in-a-dataframe-column\n",
    "bostonDF['NEAR'].value_counts() # only 35 tracts are nnear the Charles river"
   ]
  },
  {
   "cell_type": "code",
   "execution_count": 62,
   "metadata": {},
   "outputs": [
    {
     "data": {
      "text/html": [
       "<div>\n",
       "<style scoped>\n",
       "    .dataframe tbody tr th:only-of-type {\n",
       "        vertical-align: middle;\n",
       "    }\n",
       "\n",
       "    .dataframe tbody tr th {\n",
       "        vertical-align: top;\n",
       "    }\n",
       "\n",
       "    .dataframe thead th {\n",
       "        text-align: right;\n",
       "    }\n",
       "</style>\n",
       "<table border=\"1\" class=\"dataframe\">\n",
       "  <thead>\n",
       "    <tr style=\"text-align: right;\">\n",
       "      <th></th>\n",
       "      <th>CRIM</th>\n",
       "      <th>ZN</th>\n",
       "      <th>INDUS</th>\n",
       "      <th>NEAR</th>\n",
       "      <th>FAR</th>\n",
       "      <th>NOX</th>\n",
       "      <th>RM</th>\n",
       "      <th>AGE</th>\n",
       "      <th>DIS</th>\n",
       "      <th>RAD</th>\n",
       "      <th>TAX</th>\n",
       "      <th>PTRATIO</th>\n",
       "      <th>B</th>\n",
       "      <th>LSTAT</th>\n",
       "    </tr>\n",
       "  </thead>\n",
       "  <tbody>\n",
       "    <tr>\n",
       "      <th>0</th>\n",
       "      <td>0.00632</td>\n",
       "      <td>18.0</td>\n",
       "      <td>2.31</td>\n",
       "      <td>0</td>\n",
       "      <td>1</td>\n",
       "      <td>0.538</td>\n",
       "      <td>6.575</td>\n",
       "      <td>65.2</td>\n",
       "      <td>4.0900</td>\n",
       "      <td>1.0</td>\n",
       "      <td>296.0</td>\n",
       "      <td>15.3</td>\n",
       "      <td>396.90</td>\n",
       "      <td>4.98</td>\n",
       "    </tr>\n",
       "    <tr>\n",
       "      <th>1</th>\n",
       "      <td>0.02731</td>\n",
       "      <td>0.0</td>\n",
       "      <td>7.07</td>\n",
       "      <td>0</td>\n",
       "      <td>1</td>\n",
       "      <td>0.469</td>\n",
       "      <td>6.421</td>\n",
       "      <td>78.9</td>\n",
       "      <td>4.9671</td>\n",
       "      <td>2.0</td>\n",
       "      <td>242.0</td>\n",
       "      <td>17.8</td>\n",
       "      <td>396.90</td>\n",
       "      <td>9.14</td>\n",
       "    </tr>\n",
       "    <tr>\n",
       "      <th>2</th>\n",
       "      <td>0.02729</td>\n",
       "      <td>0.0</td>\n",
       "      <td>7.07</td>\n",
       "      <td>0</td>\n",
       "      <td>1</td>\n",
       "      <td>0.469</td>\n",
       "      <td>7.185</td>\n",
       "      <td>61.1</td>\n",
       "      <td>4.9671</td>\n",
       "      <td>2.0</td>\n",
       "      <td>242.0</td>\n",
       "      <td>17.8</td>\n",
       "      <td>392.83</td>\n",
       "      <td>4.03</td>\n",
       "    </tr>\n",
       "    <tr>\n",
       "      <th>3</th>\n",
       "      <td>0.03237</td>\n",
       "      <td>0.0</td>\n",
       "      <td>2.18</td>\n",
       "      <td>0</td>\n",
       "      <td>1</td>\n",
       "      <td>0.458</td>\n",
       "      <td>6.998</td>\n",
       "      <td>45.8</td>\n",
       "      <td>6.0622</td>\n",
       "      <td>3.0</td>\n",
       "      <td>222.0</td>\n",
       "      <td>18.7</td>\n",
       "      <td>394.63</td>\n",
       "      <td>2.94</td>\n",
       "    </tr>\n",
       "    <tr>\n",
       "      <th>4</th>\n",
       "      <td>0.06905</td>\n",
       "      <td>0.0</td>\n",
       "      <td>2.18</td>\n",
       "      <td>0</td>\n",
       "      <td>1</td>\n",
       "      <td>0.458</td>\n",
       "      <td>7.147</td>\n",
       "      <td>54.2</td>\n",
       "      <td>6.0622</td>\n",
       "      <td>3.0</td>\n",
       "      <td>222.0</td>\n",
       "      <td>18.7</td>\n",
       "      <td>396.90</td>\n",
       "      <td>5.33</td>\n",
       "    </tr>\n",
       "  </tbody>\n",
       "</table>\n",
       "</div>"
      ],
      "text/plain": [
       "      CRIM    ZN  INDUS  NEAR  FAR    NOX     RM   AGE     DIS  RAD    TAX  \\\n",
       "0  0.00632  18.0   2.31     0    1  0.538  6.575  65.2  4.0900  1.0  296.0   \n",
       "1  0.02731   0.0   7.07     0    1  0.469  6.421  78.9  4.9671  2.0  242.0   \n",
       "2  0.02729   0.0   7.07     0    1  0.469  7.185  61.1  4.9671  2.0  242.0   \n",
       "3  0.03237   0.0   2.18     0    1  0.458  6.998  45.8  6.0622  3.0  222.0   \n",
       "4  0.06905   0.0   2.18     0    1  0.458  7.147  54.2  6.0622  3.0  222.0   \n",
       "\n",
       "   PTRATIO       B  LSTAT  \n",
       "0     15.3  396.90   4.98  \n",
       "1     17.8  396.90   9.14  \n",
       "2     17.8  392.83   4.03  \n",
       "3     18.7  394.63   2.94  \n",
       "4     18.7  396.90   5.33  "
      ]
     },
     "execution_count": 62,
     "metadata": {},
     "output_type": "execute_result"
    }
   ],
   "source": [
    "inputs = bostonDF[['CRIM', 'ZN', 'INDUS', 'NEAR', 'FAR', 'NOX', 'RM', 'AGE', 'DIS', 'RAD', 'TAX', 'PTRATIO', 'B', 'LSTAT']]\n",
    "inputs.head()"
   ]
  },
  {
   "cell_type": "code",
   "execution_count": 64,
   "metadata": {},
   "outputs": [
    {
     "data": {
      "text/plain": [
       "0    24.0\n",
       "1    21.6\n",
       "2    34.7\n",
       "3    33.4\n",
       "4    36.2\n",
       "Name: MEDV, dtype: float64"
      ]
     },
     "execution_count": 64,
     "metadata": {},
     "output_type": "execute_result"
    }
   ],
   "source": [
    "outputs = bostonDF['MEDV']\n",
    "outputs.head()"
   ]
  },
  {
   "cell_type": "code",
   "execution_count": 66,
   "metadata": {},
   "outputs": [],
   "source": [
    "# split the inputs to training and testing sets\n",
    "inputs_train, inputs_test, outputs_train, outputs_test = mod.train_test_split(inputs, outputs, test_size=0.2)"
   ]
  },
  {
   "cell_type": "markdown",
   "metadata": {},
   "source": [
    "## 4.2 Pre-Processing "
   ]
  },
  {
   "cell_type": "markdown",
   "metadata": {},
   "source": [
    "Neural networks are generally more effective if the data is standardised before it is inputted into the network (13). Below, we will use feature selection decide our best inputs. We will also mitigate scaling and variance issues by whitening the inputs. "
   ]
  },
  {
   "cell_type": "markdown",
   "metadata": {},
   "source": [
    "#### Feature  Selection"
   ]
  },
  {
   "cell_type": "markdown",
   "metadata": {},
   "source": [
    "There are 14 possible inputs in this dataset. If a model is too complex and includes too many irrelevant inputs, it may lead to overfitting  and reduce its overall accuracy (14)\n",
    "\n",
    "I will use *sklearn*s *SelectKBest* function to select the the most 10 most powerful inputs. This function performs a Chi squared test to select the inputs which the output is most dependent on (15)."
   ]
  },
  {
   "cell_type": "code",
   "execution_count": 67,
   "metadata": {},
   "outputs": [],
   "source": [
    "# The below is neccesery to get selectbest to work.\n",
    "inputsBest = inputs.to_numpy() # converts back to numpy array\n",
    "outputsBest = outputs.to_numpy() \n",
    "\n",
    "# https://discuss.analyticsvidhya.com/t/valueerror-unknown-label-type-unknown-for-logisticsregression-model/35610/4\n",
    "# Had to convert type to int to stop error\n",
    "inputsBest = inputsBest.astype('int')\n",
    "outputsBest = outputsBest.astype('int')"
   ]
  },
  {
   "cell_type": "code",
   "execution_count": 68,
   "metadata": {},
   "outputs": [
    {
     "name": "stdout",
     "output_type": "stream",
     "text": [
      "    Input        Result\n",
      "10    TAX  15383.874566\n",
      "1      ZN   6627.485470\n",
      "0    CRIM   5668.678741\n",
      "12      B   3417.157948\n",
      "7     AGE   2507.919076\n",
      "13  LSTAT   1509.815375\n",
      "9     RAD   1495.398091\n",
      "2   INDUS   1014.591009\n",
      "8     DIS    213.788302\n",
      "3    NEAR     53.053015\n"
     ]
    }
   ],
   "source": [
    "# https://towardsdatascience.com/feature-selection-techniques-in-machine-learning-with-python-f24e7da3f36e\n",
    "# taken from above\n",
    "from sklearn.feature_selection import SelectKBest\n",
    "from sklearn.feature_selection import chi2\n",
    "\n",
    "\n",
    "bestresult = SelectKBest(score_func=chi2, k=10) # uses Chi squared and selects 10\n",
    "fit = bestresult.fit(inputsBest,outputBest)\n",
    "\n",
    "dfresult = pd.DataFrame(fit.scores_)\n",
    "dfcolumns = pd.DataFrame(inputs.columns)\n",
    "\n",
    "featureresult = pd.concat([dfcolumns,dfresult],axis=1) \n",
    "featureresult.columns = ['Input','Result']  \n",
    "print(featureresult.nlargest(10,'Result')) # prints the top 10 results\n"
   ]
  },
  {
   "cell_type": "markdown",
   "metadata": {},
   "source": [
    "The 10 best predictor inputs are listed above. A new input dataframe is created which includes them below. The output is most dependent on these 10 variables. "
   ]
  },
  {
   "cell_type": "code",
   "execution_count": 69,
   "metadata": {},
   "outputs": [],
   "source": [
    "inputsN = bostonDF[['TAX', 'ZN', 'CRIM', 'B', 'AGE', 'LSTAT', 'RAD', 'INDUS', 'DIS', 'NEAR']]"
   ]
  },
  {
   "cell_type": "markdown",
   "metadata": {},
   "source": [
    "#### Whitening\n"
   ]
  },
  {
   "cell_type": "markdown",
   "metadata": {},
   "source": [
    "Scaling differences across inputs can reduce the efficacy of neural networks. Optimal inputs will be scaled be near a range of 0 to 1 (16). \n",
    "\n",
    "As you can see below. The TAX and B variables are measured in 100s, while others, like NEAR and CRIM are between 0 and 1. Therefore, it makes sense to scale the dataset. "
   ]
  },
  {
   "cell_type": "code",
   "execution_count": 70,
   "metadata": {},
   "outputs": [
    {
     "data": {
      "text/html": [
       "<div>\n",
       "<style scoped>\n",
       "    .dataframe tbody tr th:only-of-type {\n",
       "        vertical-align: middle;\n",
       "    }\n",
       "\n",
       "    .dataframe tbody tr th {\n",
       "        vertical-align: top;\n",
       "    }\n",
       "\n",
       "    .dataframe thead th {\n",
       "        text-align: right;\n",
       "    }\n",
       "</style>\n",
       "<table border=\"1\" class=\"dataframe\">\n",
       "  <thead>\n",
       "    <tr style=\"text-align: right;\">\n",
       "      <th></th>\n",
       "      <th>TAX</th>\n",
       "      <th>ZN</th>\n",
       "      <th>CRIM</th>\n",
       "      <th>B</th>\n",
       "      <th>AGE</th>\n",
       "      <th>LSTAT</th>\n",
       "      <th>RAD</th>\n",
       "      <th>INDUS</th>\n",
       "      <th>DIS</th>\n",
       "      <th>NEAR</th>\n",
       "    </tr>\n",
       "  </thead>\n",
       "  <tbody>\n",
       "    <tr>\n",
       "      <th>0</th>\n",
       "      <td>296.0</td>\n",
       "      <td>18.0</td>\n",
       "      <td>0.00632</td>\n",
       "      <td>396.90</td>\n",
       "      <td>65.2</td>\n",
       "      <td>4.98</td>\n",
       "      <td>1.0</td>\n",
       "      <td>2.31</td>\n",
       "      <td>4.0900</td>\n",
       "      <td>0</td>\n",
       "    </tr>\n",
       "    <tr>\n",
       "      <th>1</th>\n",
       "      <td>242.0</td>\n",
       "      <td>0.0</td>\n",
       "      <td>0.02731</td>\n",
       "      <td>396.90</td>\n",
       "      <td>78.9</td>\n",
       "      <td>9.14</td>\n",
       "      <td>2.0</td>\n",
       "      <td>7.07</td>\n",
       "      <td>4.9671</td>\n",
       "      <td>0</td>\n",
       "    </tr>\n",
       "    <tr>\n",
       "      <th>2</th>\n",
       "      <td>242.0</td>\n",
       "      <td>0.0</td>\n",
       "      <td>0.02729</td>\n",
       "      <td>392.83</td>\n",
       "      <td>61.1</td>\n",
       "      <td>4.03</td>\n",
       "      <td>2.0</td>\n",
       "      <td>7.07</td>\n",
       "      <td>4.9671</td>\n",
       "      <td>0</td>\n",
       "    </tr>\n",
       "    <tr>\n",
       "      <th>3</th>\n",
       "      <td>222.0</td>\n",
       "      <td>0.0</td>\n",
       "      <td>0.03237</td>\n",
       "      <td>394.63</td>\n",
       "      <td>45.8</td>\n",
       "      <td>2.94</td>\n",
       "      <td>3.0</td>\n",
       "      <td>2.18</td>\n",
       "      <td>6.0622</td>\n",
       "      <td>0</td>\n",
       "    </tr>\n",
       "    <tr>\n",
       "      <th>4</th>\n",
       "      <td>222.0</td>\n",
       "      <td>0.0</td>\n",
       "      <td>0.06905</td>\n",
       "      <td>396.90</td>\n",
       "      <td>54.2</td>\n",
       "      <td>5.33</td>\n",
       "      <td>3.0</td>\n",
       "      <td>2.18</td>\n",
       "      <td>6.0622</td>\n",
       "      <td>0</td>\n",
       "    </tr>\n",
       "  </tbody>\n",
       "</table>\n",
       "</div>"
      ],
      "text/plain": [
       "     TAX    ZN     CRIM       B   AGE  LSTAT  RAD  INDUS     DIS  NEAR\n",
       "0  296.0  18.0  0.00632  396.90  65.2   4.98  1.0   2.31  4.0900     0\n",
       "1  242.0   0.0  0.02731  396.90  78.9   9.14  2.0   7.07  4.9671     0\n",
       "2  242.0   0.0  0.02729  392.83  61.1   4.03  2.0   7.07  4.9671     0\n",
       "3  222.0   0.0  0.03237  394.63  45.8   2.94  3.0   2.18  6.0622     0\n",
       "4  222.0   0.0  0.06905  396.90  54.2   5.33  3.0   2.18  6.0622     0"
      ]
     },
     "execution_count": 70,
     "metadata": {},
     "output_type": "execute_result"
    }
   ],
   "source": [
    "inputsN.head()"
   ]
  },
  {
   "cell_type": "markdown",
   "metadata": {},
   "source": [
    "inputs to a neural network should also ideally have an approximate normal distribution. If they do not, they should be normalised or whitened (16). As you can see in the histograms below(Near is categorical so can be ignored), none of the numeric variables are normally distributed. Therefore, i will whiten the dataset using *sklearn*. This process will scale and normalise the data. "
   ]
  },
  {
   "cell_type": "code",
   "execution_count": 71,
   "metadata": {},
   "outputs": [
    {
     "data": {
      "image/png": "[encoded data removed]",
      "text/plain": [
       "<Figure size 432x288 with 12 Axes>"
      ]
     },
     "metadata": {
      "needs_background": "light"
     },
     "output_type": "display_data"
    }
   ],
   "source": [
    "inputsN.hist()\n",
    "plt.show()"
   ]
  },
  {
   "cell_type": "code",
   "execution_count": 72,
   "metadata": {},
   "outputs": [],
   "source": [
    "# below i whiten the inputN dataset\n",
    "pca = dec.PCA(n_components=10, whiten=True)\n",
    "pca.fit(inputsN)\n",
    "\n",
    "inputsNW = pd.DataFrame(pca.transform(inputsN), columns = inputsN.columns)"
   ]
  },
  {
   "cell_type": "code",
   "execution_count": 74,
   "metadata": {},
   "outputs": [],
   "source": [
    "# The preprocessed dataset is split into traing and test sets \n",
    "# the outputs variable has not been changed\n",
    "inputsNW_train, inputsNW_test, outputsNW_train, outputsNW_test = mod.train_test_split(inputsNW, outputs, test_size=0.2)"
   ]
  },
  {
   "cell_type": "code",
   "execution_count": null,
   "metadata": {},
   "outputs": [],
   "source": [
    "m = kr.models.Sequential()\n",
    "m.add(kr.layers.Dense(10, input_dim=8, activation=\"linear\"))\n",
    "m.add(kr.layers.Dense(30, activation=\"tanh\"))\n",
    "m.add(kr.layers.Dense(30, activation=\"tanh\"))\n",
    "m.add(kr.layers.Dense(30, activation=\"sigmoid\"))\n",
    "m.add(kr.layers.Dense(1, activation=\"linear\"))\n",
    "m.compile(loss=\"mean_squared_error\", optimizer=\"sgd\")"
   ]
  },
  {
   "cell_type": "code",
   "execution_count": null,
   "metadata": {},
   "outputs": [],
   "source": [
    "m.fit(inputsNew, output, epochs=40, batch_size=15)"
   ]
  },
  {
   "cell_type": "code",
   "execution_count": 42,
   "metadata": {},
   "outputs": [],
   "source": [
    "m = kr.models.Sequential()\n",
    "m.add(kr.layers.Dense(10, input_dim=14, activation=\"linear\"))\n",
    "m.add(kr.layers.Dense(30, activation=\"tanh\"))\n",
    "m.add(kr.layers.Dense(30, activation=\"tanh\"))\n",
    "m.add(kr.layers.Dense(30, activation=\"sigmoid\"))\n",
    "m.add(kr.layers.Dense(1, activation=\"linear\"))\n",
    "m.compile(loss=\"mean_squared_error\", optimizer=\"sgd\", metrics=['accuracy'])"
   ]
  },
  {
   "cell_type": "code",
   "execution_count": 43,
   "metadata": {},
   "outputs": [
    {
     "name": "stdout",
     "output_type": "stream",
     "text": [
      "Epoch 1/400\n",
      "506/506 [==============================] - 0s 359us/step - loss: 114.7494 - accuracy: 0.0079\n",
      "Epoch 2/400\n",
      "506/506 [==============================] - 0s 59us/step - loss: 56.8505 - accuracy: 0.0099\n",
      "Epoch 3/400\n",
      "506/506 [==============================] - 0s 63us/step - loss: 64.6670 - accuracy: 0.0158\n",
      "Epoch 4/400\n",
      "506/506 [==============================] - 0s 63us/step - loss: 41.2891 - accuracy: 0.0138\n",
      "Epoch 5/400\n",
      "506/506 [==============================] - 0s 59us/step - loss: 34.8390 - accuracy: 0.0099\n",
      "Epoch 6/400\n",
      "506/506 [==============================] - 0s 59us/step - loss: 38.5250 - accuracy: 0.0198\n",
      "Epoch 7/400\n",
      "506/506 [==============================] - 0s 59us/step - loss: 36.2556 - accuracy: 0.0059\n",
      "Epoch 8/400\n",
      "506/506 [==============================] - 0s 59us/step - loss: 31.9271 - accuracy: 0.0059\n",
      "Epoch 9/400\n",
      "506/506 [==============================] - 0s 57us/step - loss: 24.6033 - accuracy: 0.0178\n",
      "Epoch 10/400\n",
      "506/506 [==============================] - 0s 59us/step - loss: 23.4051 - accuracy: 0.0119\n",
      "Epoch 11/400\n",
      "506/506 [==============================] - 0s 59us/step - loss: 28.5195 - accuracy: 0.0138\n",
      "Epoch 12/400\n",
      "506/506 [==============================] - 0s 67us/step - loss: 29.3969 - accuracy: 0.0158\n",
      "Epoch 13/400\n",
      "506/506 [==============================] - 0s 67us/step - loss: 30.4726 - accuracy: 0.0079\n",
      "Epoch 14/400\n",
      "506/506 [==============================] - 0s 59us/step - loss: 24.6390 - accuracy: 0.0138\n",
      "Epoch 15/400\n",
      "506/506 [==============================] - 0s 61us/step - loss: 23.8882 - accuracy: 0.0178\n",
      "Epoch 16/400\n",
      "506/506 [==============================] - 0s 63us/step - loss: 23.7203 - accuracy: 0.0119\n",
      "Epoch 17/400\n",
      "506/506 [==============================] - 0s 61us/step - loss: 25.6496 - accuracy: 0.0158\n",
      "Epoch 18/400\n",
      "506/506 [==============================] - 0s 65us/step - loss: 22.0614 - accuracy: 0.0198\n",
      "Epoch 19/400\n",
      "506/506 [==============================] - 0s 63us/step - loss: 72.9049 - accuracy: 0.0099\n",
      "Epoch 20/400\n",
      "506/506 [==============================] - 0s 61us/step - loss: 70.7198 - accuracy: 0.0040\n",
      "Epoch 21/400\n",
      "506/506 [==============================] - 0s 59us/step - loss: 57.5045 - accuracy: 0.0059\n",
      "Epoch 22/400\n",
      "506/506 [==============================] - 0s 69us/step - loss: 50.6245 - accuracy: 0.0099\n",
      "Epoch 23/400\n",
      "506/506 [==============================] - 0s 65us/step - loss: 38.4865 - accuracy: 0.0119\n",
      "Epoch 24/400\n",
      "506/506 [==============================] - 0s 63us/step - loss: 29.0376 - accuracy: 0.0079\n",
      "Epoch 25/400\n",
      "506/506 [==============================] - 0s 61us/step - loss: 27.5277 - accuracy: 0.0119\n",
      "Epoch 26/400\n",
      "506/506 [==============================] - 0s 67us/step - loss: 23.6998 - accuracy: 0.0099\n",
      "Epoch 27/400\n",
      "506/506 [==============================] - 0s 63us/step - loss: 26.0193 - accuracy: 0.0119\n",
      "Epoch 28/400\n",
      "506/506 [==============================] - 0s 81us/step - loss: 27.7134 - accuracy: 0.0079\n",
      "Epoch 29/400\n",
      "506/506 [==============================] - 0s 65us/step - loss: 28.5138 - accuracy: 0.0119\n",
      "Epoch 30/400\n",
      "506/506 [==============================] - 0s 63us/step - loss: 24.6563 - accuracy: 0.0119\n",
      "Epoch 31/400\n",
      "506/506 [==============================] - ETA: 0s - loss: 16.6438 - accuracy: 0.0000e+0 - 0s 59us/step - loss: 21.3104 - accuracy: 0.0158\n",
      "Epoch 32/400\n",
      "506/506 [==============================] - 0s 59us/step - loss: 29.0828 - accuracy: 0.0119\n",
      "Epoch 33/400\n",
      "506/506 [==============================] - 0s 59us/step - loss: 20.9067 - accuracy: 0.0158\n",
      "Epoch 34/400\n",
      "506/506 [==============================] - 0s 57us/step - loss: 38.4514 - accuracy: 0.0138\n",
      "Epoch 35/400\n",
      "506/506 [==============================] - 0s 63us/step - loss: 34.6602 - accuracy: 0.0119\n",
      "Epoch 36/400\n",
      "506/506 [==============================] - 0s 65us/step - loss: 28.4929 - accuracy: 0.0059\n",
      "Epoch 37/400\n",
      "506/506 [==============================] - 0s 59us/step - loss: 24.9619 - accuracy: 0.0138\n",
      "Epoch 38/400\n",
      "506/506 [==============================] - 0s 67us/step - loss: 21.6625 - accuracy: 0.0158\n",
      "Epoch 39/400\n",
      "506/506 [==============================] - 0s 65us/step - loss: 19.7213 - accuracy: 0.0158\n",
      "Epoch 40/400\n",
      "506/506 [==============================] - 0s 63us/step - loss: 23.0310 - accuracy: 0.0138\n",
      "Epoch 41/400\n",
      "506/506 [==============================] - 0s 65us/step - loss: 18.6617 - accuracy: 0.0198\n",
      "Epoch 42/400\n",
      "506/506 [==============================] - 0s 63us/step - loss: 17.4461 - accuracy: 0.0198\n",
      "Epoch 43/400\n",
      "506/506 [==============================] - 0s 71us/step - loss: 15.9088 - accuracy: 0.0158\n",
      "Epoch 44/400\n",
      "506/506 [==============================] - 0s 65us/step - loss: 15.4427 - accuracy: 0.0178\n",
      "Epoch 45/400\n",
      "506/506 [==============================] - 0s 59us/step - loss: 30.9010 - accuracy: 0.0198\n",
      "Epoch 46/400\n",
      "506/506 [==============================] - 0s 63us/step - loss: 26.4279 - accuracy: 0.0257\n",
      "Epoch 47/400\n",
      "506/506 [==============================] - 0s 59us/step - loss: 20.0991 - accuracy: 0.0138\n",
      "Epoch 48/400\n",
      "506/506 [==============================] - 0s 65us/step - loss: 18.0374 - accuracy: 0.0119\n",
      "Epoch 49/400\n",
      "506/506 [==============================] - 0s 71us/step - loss: 17.8145 - accuracy: 0.0059\n",
      "Epoch 50/400\n",
      "506/506 [==============================] - 0s 59us/step - loss: 16.7454 - accuracy: 0.0079\n",
      "Epoch 51/400\n",
      "506/506 [==============================] - 0s 61us/step - loss: 18.0717 - accuracy: 0.0158\n",
      "Epoch 52/400\n",
      "506/506 [==============================] - 0s 65us/step - loss: 20.5868 - accuracy: 0.0099\n",
      "Epoch 53/400\n",
      "506/506 [==============================] - 0s 65us/step - loss: 21.6019 - accuracy: 0.0079\n",
      "Epoch 54/400\n",
      "506/506 [==============================] - 0s 61us/step - loss: 20.5389 - accuracy: 0.0079\n",
      "Epoch 55/400\n",
      "506/506 [==============================] - 0s 55us/step - loss: 20.1834 - accuracy: 0.0040\n",
      "Epoch 56/400\n",
      "506/506 [==============================] - 0s 57us/step - loss: 19.3176 - accuracy: 0.0079\n",
      "Epoch 57/400\n",
      "506/506 [==============================] - 0s 55us/step - loss: 17.0745 - accuracy: 0.0079\n",
      "Epoch 58/400\n",
      "506/506 [==============================] - 0s 61us/step - loss: 21.9196 - accuracy: 0.0198\n",
      "Epoch 59/400\n",
      "506/506 [==============================] - 0s 61us/step - loss: 22.2520 - accuracy: 0.0158\n",
      "Epoch 60/400\n",
      "506/506 [==============================] - 0s 55us/step - loss: 24.9515 - accuracy: 0.0119\n",
      "Epoch 61/400\n",
      "506/506 [==============================] - 0s 63us/step - loss: 21.1612 - accuracy: 0.0158\n",
      "Epoch 62/400\n",
      "506/506 [==============================] - 0s 59us/step - loss: 19.7744 - accuracy: 0.0119\n",
      "Epoch 63/400\n",
      "506/506 [==============================] - 0s 53us/step - loss: 22.2268 - accuracy: 0.0198\n",
      "Epoch 64/400\n",
      "506/506 [==============================] - 0s 51us/step - loss: 23.6765 - accuracy: 0.0119\n",
      "Epoch 65/400\n",
      "506/506 [==============================] - 0s 55us/step - loss: 17.9490 - accuracy: 0.0079\n",
      "Epoch 66/400\n",
      "506/506 [==============================] - 0s 55us/step - loss: 24.7576 - accuracy: 0.0138\n",
      "Epoch 67/400\n",
      "506/506 [==============================] - 0s 57us/step - loss: 27.0694 - accuracy: 0.0138\n",
      "Epoch 68/400\n",
      "506/506 [==============================] - 0s 51us/step - loss: 28.6340 - accuracy: 0.0119\n",
      "Epoch 69/400\n",
      "506/506 [==============================] - 0s 57us/step - loss: 26.2249 - accuracy: 0.0138\n",
      "Epoch 70/400\n",
      "506/506 [==============================] - 0s 57us/step - loss: 22.5322 - accuracy: 0.0059\n",
      "Epoch 71/400\n",
      "506/506 [==============================] - 0s 51us/step - loss: 23.8912 - accuracy: 0.0119\n",
      "Epoch 72/400\n",
      "506/506 [==============================] - 0s 51us/step - loss: 19.9499 - accuracy: 0.0237\n",
      "Epoch 73/400\n",
      "506/506 [==============================] - 0s 55us/step - loss: 22.8042 - accuracy: 0.0158\n",
      "Epoch 74/400\n",
      "506/506 [==============================] - 0s 53us/step - loss: 25.5684 - accuracy: 0.0079\n",
      "Epoch 75/400\n",
      "506/506 [==============================] - 0s 53us/step - loss: 23.0096 - accuracy: 0.0099\n",
      "Epoch 76/400\n",
      "506/506 [==============================] - 0s 59us/step - loss: 22.1492 - accuracy: 0.0158\n",
      "Epoch 77/400\n",
      "506/506 [==============================] - 0s 57us/step - loss: 19.5198 - accuracy: 0.0178\n",
      "Epoch 78/400\n",
      "506/506 [==============================] - 0s 59us/step - loss: 23.2245 - accuracy: 0.0158\n",
      "Epoch 79/400\n",
      "506/506 [==============================] - 0s 53us/step - loss: 25.4976 - accuracy: 0.0079\n",
      "Epoch 80/400\n",
      "506/506 [==============================] - 0s 57us/step - loss: 29.7042 - accuracy: 0.0158\n",
      "Epoch 81/400\n",
      "506/506 [==============================] - 0s 57us/step - loss: 35.6506 - accuracy: 0.0040\n",
      "Epoch 82/400\n",
      "506/506 [==============================] - 0s 57us/step - loss: 24.8918 - accuracy: 0.0099\n",
      "Epoch 83/400\n",
      "506/506 [==============================] - 0s 55us/step - loss: 25.8721 - accuracy: 0.0079\n",
      "Epoch 84/400\n",
      "506/506 [==============================] - 0s 53us/step - loss: 38.4210 - accuracy: 0.0079\n",
      "Epoch 85/400\n",
      "506/506 [==============================] - 0s 53us/step - loss: 41.0622 - accuracy: 0.0138\n",
      "Epoch 86/400\n",
      "506/506 [==============================] - 0s 59us/step - loss: 44.8763 - accuracy: 0.0079\n",
      "Epoch 87/400\n",
      "506/506 [==============================] - 0s 55us/step - loss: 29.8266 - accuracy: 0.0158\n",
      "Epoch 88/400\n",
      "506/506 [==============================] - 0s 53us/step - loss: 39.9929 - accuracy: 0.0079\n",
      "Epoch 89/400\n",
      "506/506 [==============================] - 0s 53us/step - loss: 48.6604 - accuracy: 0.0119\n",
      "Epoch 90/400\n",
      "506/506 [==============================] - 0s 57us/step - loss: 58.3237 - accuracy: 0.0158\n",
      "Epoch 91/400\n",
      "506/506 [==============================] - 0s 57us/step - loss: 49.0710 - accuracy: 0.0059\n",
      "Epoch 92/400\n",
      "506/506 [==============================] - 0s 61us/step - loss: 36.0323 - accuracy: 0.0079\n",
      "Epoch 93/400\n",
      "506/506 [==============================] - 0s 53us/step - loss: 42.1108 - accuracy: 0.0119\n",
      "Epoch 94/400\n",
      "506/506 [==============================] - 0s 53us/step - loss: 41.2347 - accuracy: 0.0178\n",
      "Epoch 95/400\n",
      "506/506 [==============================] - 0s 59us/step - loss: 41.3604 - accuracy: 0.0138\n",
      "Epoch 96/400\n",
      "506/506 [==============================] - 0s 59us/step - loss: 36.7223 - accuracy: 0.0059\n",
      "Epoch 97/400\n",
      "506/506 [==============================] - 0s 53us/step - loss: 45.3550 - accuracy: 0.0059\n",
      "Epoch 98/400\n",
      "506/506 [==============================] - 0s 51us/step - loss: 45.8253 - accuracy: 0.0079\n",
      "Epoch 99/400\n",
      "506/506 [==============================] - 0s 57us/step - loss: 40.9521 - accuracy: 0.0138\n",
      "Epoch 100/400\n",
      "506/506 [==============================] - 0s 55us/step - loss: 33.7983 - accuracy: 0.0059\n",
      "Epoch 101/400\n",
      "506/506 [==============================] - 0s 53us/step - loss: 34.5586 - accuracy: 0.0020\n",
      "Epoch 102/400\n",
      "506/506 [==============================] - 0s 53us/step - loss: 49.3274 - accuracy: 0.0079\n",
      "Epoch 103/400\n",
      "506/506 [==============================] - 0s 97us/step - loss: 34.3286 - accuracy: 0.0119\n",
      "Epoch 104/400\n",
      "506/506 [==============================] - 0s 57us/step - loss: 50.1639 - accuracy: 0.0000e+00\n",
      "Epoch 105/400\n",
      "506/506 [==============================] - 0s 55us/step - loss: 37.8006 - accuracy: 0.0040\n",
      "Epoch 106/400\n",
      "506/506 [==============================] - 0s 55us/step - loss: 53.2347 - accuracy: 0.0158\n",
      "Epoch 107/400\n",
      "506/506 [==============================] - 0s 53us/step - loss: 47.5644 - accuracy: 0.0119\n",
      "Epoch 108/400\n",
      "506/506 [==============================] - 0s 55us/step - loss: 68.7449 - accuracy: 0.0040\n",
      "Epoch 109/400\n",
      "506/506 [==============================] - 0s 53us/step - loss: 71.8088 - accuracy: 0.0099\n",
      "Epoch 110/400\n",
      "506/506 [==============================] - 0s 51us/step - loss: 60.7780 - accuracy: 0.0119\n",
      "Epoch 111/400\n",
      "506/506 [==============================] - 0s 55us/step - loss: 55.7062 - accuracy: 0.0099\n",
      "Epoch 112/400\n",
      "506/506 [==============================] - 0s 55us/step - loss: 60.6812 - accuracy: 0.0059\n",
      "Epoch 113/400\n",
      "506/506 [==============================] - 0s 51us/step - loss: 66.3263 - accuracy: 0.0158\n",
      "Epoch 114/400\n",
      "506/506 [==============================] - 0s 53us/step - loss: 58.5779 - accuracy: 0.0079\n",
      "Epoch 115/400\n",
      "506/506 [==============================] - 0s 53us/step - loss: 50.2993 - accuracy: 0.0059\n",
      "Epoch 116/400\n",
      "506/506 [==============================] - 0s 51us/step - loss: 47.1562 - accuracy: 0.0119\n",
      "Epoch 117/400\n",
      "506/506 [==============================] - 0s 53us/step - loss: 40.4405 - accuracy: 0.0099\n",
      "Epoch 118/400\n",
      "506/506 [==============================] - 0s 57us/step - loss: 27.7306 - accuracy: 0.0099\n",
      "Epoch 119/400\n",
      "506/506 [==============================] - 0s 53us/step - loss: 26.7969 - accuracy: 0.0099\n",
      "Epoch 120/400\n",
      "506/506 [==============================] - 0s 51us/step - loss: 35.1111 - accuracy: 0.0099\n",
      "Epoch 121/400\n",
      "506/506 [==============================] - 0s 57us/step - loss: 37.0951 - accuracy: 0.0178\n",
      "Epoch 122/400\n",
      "506/506 [==============================] - 0s 55us/step - loss: 37.5652 - accuracy: 0.0158\n",
      "Epoch 123/400\n",
      "506/506 [==============================] - 0s 49us/step - loss: 38.5320 - accuracy: 0.0099\n",
      "Epoch 124/400\n",
      "506/506 [==============================] - 0s 51us/step - loss: 42.1003 - accuracy: 0.0138\n",
      "Epoch 125/400\n",
      "506/506 [==============================] - 0s 53us/step - loss: 34.3720 - accuracy: 0.0079\n",
      "Epoch 126/400\n",
      "506/506 [==============================] - 0s 59us/step - loss: 34.2993 - accuracy: 0.0119\n",
      "Epoch 127/400\n",
      "506/506 [==============================] - 0s 53us/step - loss: 31.6484 - accuracy: 0.0138\n",
      "Epoch 128/400\n",
      "506/506 [==============================] - 0s 55us/step - loss: 31.8438 - accuracy: 0.0198\n",
      "Epoch 129/400\n",
      "506/506 [==============================] - 0s 55us/step - loss: 33.4609 - accuracy: 0.0119\n",
      "Epoch 130/400\n",
      "506/506 [==============================] - 0s 51us/step - loss: 36.0434 - accuracy: 0.0099\n",
      "Epoch 131/400\n",
      "506/506 [==============================] - 0s 55us/step - loss: 28.3541 - accuracy: 0.0237\n",
      "Epoch 132/400\n",
      "506/506 [==============================] - 0s 57us/step - loss: 33.2584 - accuracy: 0.0099\n",
      "Epoch 133/400\n",
      "506/506 [==============================] - 0s 55us/step - loss: 41.6906 - accuracy: 0.0119\n",
      "Epoch 134/400\n",
      "506/506 [==============================] - 0s 51us/step - loss: 39.4916 - accuracy: 0.0138\n",
      "Epoch 135/400\n",
      "506/506 [==============================] - 0s 51us/step - loss: 48.4860 - accuracy: 0.0099\n",
      "Epoch 136/400\n",
      "506/506 [==============================] - 0s 51us/step - loss: 43.5500 - accuracy: 0.0079\n",
      "Epoch 137/400\n",
      "506/506 [==============================] - 0s 49us/step - loss: 43.4680 - accuracy: 0.0119\n",
      "Epoch 138/400\n",
      "506/506 [==============================] - 0s 57us/step - loss: 37.7759 - accuracy: 0.0099\n",
      "Epoch 139/400\n",
      "506/506 [==============================] - 0s 55us/step - loss: 44.2375 - accuracy: 0.0099\n",
      "Epoch 140/400\n",
      "506/506 [==============================] - 0s 55us/step - loss: 45.2559 - accuracy: 0.0059\n",
      "Epoch 141/400\n",
      "506/506 [==============================] - 0s 51us/step - loss: 40.0716 - accuracy: 0.0119\n",
      "Epoch 142/400\n",
      "506/506 [==============================] - 0s 57us/step - loss: 36.6730 - accuracy: 0.0059\n",
      "Epoch 143/400\n",
      "506/506 [==============================] - 0s 57us/step - loss: 37.8395 - accuracy: 0.0158\n",
      "Epoch 144/400\n",
      "506/506 [==============================] - 0s 51us/step - loss: 55.1806 - accuracy: 0.0059\n",
      "Epoch 145/400\n",
      "506/506 [==============================] - 0s 49us/step - loss: 63.0281 - accuracy: 0.0099\n",
      "Epoch 146/400\n",
      "506/506 [==============================] - 0s 59us/step - loss: 56.8513 - accuracy: 0.0079\n",
      "Epoch 147/400\n",
      "506/506 [==============================] - 0s 59us/step - loss: 56.1400 - accuracy: 0.0138\n",
      "Epoch 148/400\n",
      "506/506 [==============================] - 0s 53us/step - loss: 56.6055 - accuracy: 0.0099\n",
      "Epoch 149/400\n",
      "506/506 [==============================] - 0s 55us/step - loss: 55.1503 - accuracy: 0.0198\n",
      "Epoch 150/400\n",
      "506/506 [==============================] - 0s 61us/step - loss: 52.3127 - accuracy: 0.0119\n",
      "Epoch 151/400\n",
      "506/506 [==============================] - 0s 55us/step - loss: 47.4323 - accuracy: 0.0119\n",
      "Epoch 152/400\n",
      "506/506 [==============================] - 0s 57us/step - loss: 40.7736 - accuracy: 0.0158\n",
      "Epoch 153/400\n",
      "506/506 [==============================] - 0s 55us/step - loss: 34.3858 - accuracy: 0.0119\n",
      "Epoch 154/400\n",
      "506/506 [==============================] - 0s 53us/step - loss: 62.9700 - accuracy: 0.0079\n",
      "Epoch 155/400\n",
      "506/506 [==============================] - 0s 61us/step - loss: 65.9361 - accuracy: 0.0178\n",
      "Epoch 156/400\n",
      "506/506 [==============================] - 0s 57us/step - loss: 57.3176 - accuracy: 0.0099\n",
      "Epoch 157/400\n"
     ]
    },
    {
     "name": "stdout",
     "output_type": "stream",
     "text": [
      "506/506 [==============================] - 0s 57us/step - loss: 54.1288 - accuracy: 0.0079\n",
      "Epoch 158/400\n",
      "506/506 [==============================] - 0s 53us/step - loss: 53.3093 - accuracy: 0.0138\n",
      "Epoch 159/400\n",
      "506/506 [==============================] - 0s 53us/step - loss: 42.8369 - accuracy: 0.0059\n",
      "Epoch 160/400\n",
      "506/506 [==============================] - 0s 61us/step - loss: 67.7547 - accuracy: 0.0138\n",
      "Epoch 161/400\n",
      "506/506 [==============================] - 0s 63us/step - loss: 62.3529 - accuracy: 0.0079\n",
      "Epoch 162/400\n",
      "506/506 [==============================] - 0s 55us/step - loss: 44.9556 - accuracy: 0.0119\n",
      "Epoch 163/400\n",
      "506/506 [==============================] - 0s 55us/step - loss: 58.8181 - accuracy: 0.0079\n",
      "Epoch 164/400\n",
      "506/506 [==============================] - 0s 53us/step - loss: 54.5999 - accuracy: 0.0059\n",
      "Epoch 165/400\n",
      "506/506 [==============================] - 0s 53us/step - loss: 61.3067 - accuracy: 0.0059\n",
      "Epoch 166/400\n",
      "506/506 [==============================] - 0s 55us/step - loss: 60.7369 - accuracy: 0.0119\n",
      "Epoch 167/400\n",
      "506/506 [==============================] - 0s 49us/step - loss: 60.4184 - accuracy: 0.0099\n",
      "Epoch 168/400\n",
      "506/506 [==============================] - 0s 51us/step - loss: 57.3537 - accuracy: 0.0040\n",
      "Epoch 169/400\n",
      "506/506 [==============================] - 0s 51us/step - loss: 53.2881 - accuracy: 0.0059\n",
      "Epoch 170/400\n",
      "506/506 [==============================] - 0s 53us/step - loss: 57.9956 - accuracy: 0.0079\n",
      "Epoch 171/400\n",
      "506/506 [==============================] - 0s 59us/step - loss: 57.8029 - accuracy: 0.0099\n",
      "Epoch 172/400\n",
      "506/506 [==============================] - 0s 63us/step - loss: 57.2954 - accuracy: 0.0217\n",
      "Epoch 173/400\n",
      "506/506 [==============================] - 0s 59us/step - loss: 62.9364 - accuracy: 0.0079\n",
      "Epoch 174/400\n",
      "506/506 [==============================] - 0s 59us/step - loss: 75.5065 - accuracy: 0.0079\n",
      "Epoch 175/400\n",
      "506/506 [==============================] - 0s 61us/step - loss: 67.1410 - accuracy: 0.0119\n",
      "Epoch 176/400\n",
      "506/506 [==============================] - 0s 65us/step - loss: 69.3879 - accuracy: 0.0059\n",
      "Epoch 177/400\n",
      "506/506 [==============================] - 0s 59us/step - loss: 66.8011 - accuracy: 0.0079\n",
      "Epoch 178/400\n",
      "506/506 [==============================] - 0s 53us/step - loss: 65.4136 - accuracy: 0.0079\n",
      "Epoch 179/400\n",
      "506/506 [==============================] - 0s 55us/step - loss: 64.1689 - accuracy: 0.0099\n",
      "Epoch 180/400\n",
      "506/506 [==============================] - 0s 59us/step - loss: 64.4151 - accuracy: 0.0059\n",
      "Epoch 181/400\n",
      "506/506 [==============================] - 0s 55us/step - loss: 63.5291 - accuracy: 0.0079\n",
      "Epoch 182/400\n",
      "506/506 [==============================] - 0s 53us/step - loss: 63.0189 - accuracy: 0.0138\n",
      "Epoch 183/400\n",
      "506/506 [==============================] - 0s 57us/step - loss: 63.2527 - accuracy: 0.0079\n",
      "Epoch 184/400\n",
      "506/506 [==============================] - 0s 57us/step - loss: 63.7471 - accuracy: 0.0138\n",
      "Epoch 185/400\n",
      "506/506 [==============================] - 0s 63us/step - loss: 63.0917 - accuracy: 0.0059\n",
      "Epoch 186/400\n",
      "506/506 [==============================] - 0s 67us/step - loss: 62.6633 - accuracy: 0.0158\n",
      "Epoch 187/400\n",
      "506/506 [==============================] - ETA: 0s - loss: 74.0950 - accuracy: 0.0000e+0 - 0s 65us/step - loss: 62.3130 - accuracy: 0.0099\n",
      "Epoch 188/400\n",
      "506/506 [==============================] - 0s 61us/step - loss: 63.2880 - accuracy: 0.0079\n",
      "Epoch 189/400\n",
      "506/506 [==============================] - 0s 63us/step - loss: 62.5735 - accuracy: 0.0099\n",
      "Epoch 190/400\n",
      "506/506 [==============================] - 0s 59us/step - loss: 63.1793 - accuracy: 0.0059\n",
      "Epoch 191/400\n",
      "506/506 [==============================] - 0s 55us/step - loss: 62.9481 - accuracy: 0.0059\n",
      "Epoch 192/400\n",
      "506/506 [==============================] - 0s 51us/step - loss: 62.0728 - accuracy: 0.0099\n",
      "Epoch 193/400\n",
      "506/506 [==============================] - 0s 57us/step - loss: 61.7697 - accuracy: 0.0099\n",
      "Epoch 194/400\n",
      "506/506 [==============================] - 0s 59us/step - loss: 62.8182 - accuracy: 0.0099\n",
      "Epoch 195/400\n",
      "506/506 [==============================] - 0s 51us/step - loss: 62.8215 - accuracy: 0.0119\n",
      "Epoch 196/400\n",
      "506/506 [==============================] - 0s 53us/step - loss: 62.2255 - accuracy: 0.0119\n",
      "Epoch 197/400\n",
      "506/506 [==============================] - 0s 55us/step - loss: 62.2807 - accuracy: 0.0119\n",
      "Epoch 198/400\n",
      "506/506 [==============================] - 0s 53us/step - loss: 62.0447 - accuracy: 0.0158\n",
      "Epoch 199/400\n",
      "506/506 [==============================] - 0s 53us/step - loss: 62.5297 - accuracy: 0.0138\n",
      "Epoch 200/400\n",
      "506/506 [==============================] - 0s 57us/step - loss: 61.7679 - accuracy: 0.0099\n",
      "Epoch 201/400\n",
      "506/506 [==============================] - 0s 57us/step - loss: 62.3614 - accuracy: 0.0079\n",
      "Epoch 202/400\n",
      "506/506 [==============================] - 0s 51us/step - loss: 62.5169 - accuracy: 0.0079\n",
      "Epoch 203/400\n",
      "506/506 [==============================] - 0s 53us/step - loss: 61.8304 - accuracy: 0.0079\n",
      "Epoch 204/400\n",
      "506/506 [==============================] - 0s 57us/step - loss: 61.6555 - accuracy: 0.0119\n",
      "Epoch 205/400\n",
      "506/506 [==============================] - 0s 55us/step - loss: 62.1139 - accuracy: 0.0178\n",
      "Epoch 206/400\n",
      "506/506 [==============================] - 0s 53us/step - loss: 61.8742 - accuracy: 0.0079\n",
      "Epoch 207/400\n",
      "506/506 [==============================] - 0s 53us/step - loss: 61.6162 - accuracy: 0.0059\n",
      "Epoch 208/400\n",
      "506/506 [==============================] - 0s 57us/step - loss: 62.5233 - accuracy: 0.0059\n",
      "Epoch 209/400\n",
      "506/506 [==============================] - 0s 51us/step - loss: 62.1648 - accuracy: 0.0119\n",
      "Epoch 210/400\n",
      "506/506 [==============================] - 0s 53us/step - loss: 61.5219 - accuracy: 0.0040\n",
      "Epoch 211/400\n",
      "506/506 [==============================] - 0s 55us/step - loss: 62.1081 - accuracy: 0.0178\n",
      "Epoch 212/400\n",
      "506/506 [==============================] - 0s 55us/step - loss: 62.2019 - accuracy: 0.0138\n",
      "Epoch 213/400\n",
      "506/506 [==============================] - 0s 51us/step - loss: 62.0155 - accuracy: 0.0099\n",
      "Epoch 214/400\n",
      "506/506 [==============================] - 0s 57us/step - loss: 61.7678 - accuracy: 0.0059\n",
      "Epoch 215/400\n",
      "506/506 [==============================] - 0s 59us/step - loss: 61.4161 - accuracy: 0.0079\n",
      "Epoch 216/400\n",
      "506/506 [==============================] - 0s 55us/step - loss: 62.1485 - accuracy: 0.0099\n",
      "Epoch 217/400\n",
      "506/506 [==============================] - 0s 55us/step - loss: 61.8016 - accuracy: 0.0059\n",
      "Epoch 218/400\n",
      "506/506 [==============================] - 0s 51us/step - loss: 61.6629 - accuracy: 0.0040\n",
      "Epoch 219/400\n",
      "506/506 [==============================] - 0s 53us/step - loss: 61.8334 - accuracy: 0.0119\n",
      "Epoch 220/400\n",
      "506/506 [==============================] - 0s 55us/step - loss: 61.4098 - accuracy: 0.0119\n",
      "Epoch 221/400\n",
      "506/506 [==============================] - 0s 53us/step - loss: 62.1885 - accuracy: 0.0138\n",
      "Epoch 222/400\n",
      "506/506 [==============================] - 0s 55us/step - loss: 61.6185 - accuracy: 0.0059\n",
      "Epoch 223/400\n",
      "506/506 [==============================] - 0s 57us/step - loss: 61.9505 - accuracy: 0.0158\n",
      "Epoch 224/400\n",
      "506/506 [==============================] - 0s 55us/step - loss: 61.6078 - accuracy: 0.0217\n",
      "Epoch 225/400\n",
      "506/506 [==============================] - 0s 51us/step - loss: 61.8385 - accuracy: 0.0099\n",
      "Epoch 226/400\n",
      "506/506 [==============================] - 0s 55us/step - loss: 61.8152 - accuracy: 0.0178\n",
      "Epoch 227/400\n",
      "506/506 [==============================] - 0s 57us/step - loss: 61.9115 - accuracy: 0.0138\n",
      "Epoch 228/400\n",
      "506/506 [==============================] - 0s 59us/step - loss: 61.3744 - accuracy: 0.0119\n",
      "Epoch 229/400\n",
      "506/506 [==============================] - 0s 59us/step - loss: 61.1158 - accuracy: 0.0138\n",
      "Epoch 230/400\n",
      "506/506 [==============================] - 0s 53us/step - loss: 61.8448 - accuracy: 0.0158\n",
      "Epoch 231/400\n",
      "506/506 [==============================] - 0s 53us/step - loss: 61.7877 - accuracy: 0.0119\n",
      "Epoch 232/400\n",
      "506/506 [==============================] - 0s 57us/step - loss: 61.9368 - accuracy: 0.0059\n",
      "Epoch 233/400\n",
      "506/506 [==============================] - 0s 53us/step - loss: 61.7213 - accuracy: 0.0178\n",
      "Epoch 234/400\n",
      "506/506 [==============================] - 0s 57us/step - loss: 62.1397 - accuracy: 0.0178\n",
      "Epoch 235/400\n",
      "506/506 [==============================] - 0s 51us/step - loss: 61.5915 - accuracy: 0.0119\n",
      "Epoch 236/400\n",
      "506/506 [==============================] - 0s 55us/step - loss: 62.0490 - accuracy: 0.0119\n",
      "Epoch 237/400\n",
      "506/506 [==============================] - 0s 57us/step - loss: 61.8307 - accuracy: 0.0059\n",
      "Epoch 238/400\n",
      "506/506 [==============================] - 0s 55us/step - loss: 61.5568 - accuracy: 0.0079\n",
      "Epoch 239/400\n",
      "506/506 [==============================] - 0s 55us/step - loss: 62.1433 - accuracy: 0.0099\n",
      "Epoch 240/400\n",
      "506/506 [==============================] - 0s 55us/step - loss: 61.9300 - accuracy: 0.0138\n",
      "Epoch 241/400\n",
      "506/506 [==============================] - 0s 53us/step - loss: 61.8371 - accuracy: 0.0138\n",
      "Epoch 242/400\n",
      "506/506 [==============================] - 0s 51us/step - loss: 61.5133 - accuracy: 0.0178\n",
      "Epoch 243/400\n",
      "506/506 [==============================] - 0s 51us/step - loss: 61.8385 - accuracy: 0.0079\n",
      "Epoch 244/400\n",
      "506/506 [==============================] - 0s 55us/step - loss: 61.8357 - accuracy: 0.0158\n",
      "Epoch 245/400\n",
      "506/506 [==============================] - 0s 57us/step - loss: 61.9503 - accuracy: 0.0178\n",
      "Epoch 246/400\n",
      "506/506 [==============================] - 0s 55us/step - loss: 61.9323 - accuracy: 0.0119\n",
      "Epoch 247/400\n",
      "506/506 [==============================] - 0s 59us/step - loss: 61.7623 - accuracy: 0.0138\n",
      "Epoch 248/400\n",
      "506/506 [==============================] - 0s 61us/step - loss: 61.8255 - accuracy: 0.0138\n",
      "Epoch 249/400\n",
      "506/506 [==============================] - 0s 63us/step - loss: 62.0606 - accuracy: 0.0079\n",
      "Epoch 250/400\n",
      "506/506 [==============================] - 0s 63us/step - loss: 61.7380 - accuracy: 0.0178\n",
      "Epoch 251/400\n",
      "506/506 [==============================] - 0s 61us/step - loss: 61.8813 - accuracy: 0.0099\n",
      "Epoch 252/400\n",
      "506/506 [==============================] - 0s 59us/step - loss: 61.3554 - accuracy: 0.0040\n",
      "Epoch 253/400\n",
      "506/506 [==============================] - 0s 63us/step - loss: 61.7638 - accuracy: 0.0119\n",
      "Epoch 254/400\n",
      "506/506 [==============================] - 0s 67us/step - loss: 62.2107 - accuracy: 0.0178\n",
      "Epoch 255/400\n",
      "506/506 [==============================] - 0s 63us/step - loss: 61.9907 - accuracy: 0.0138\n",
      "Epoch 256/400\n",
      "506/506 [==============================] - 0s 63us/step - loss: 61.9461 - accuracy: 0.0138\n",
      "Epoch 257/400\n",
      "506/506 [==============================] - 0s 61us/step - loss: 61.1163 - accuracy: 0.0079\n",
      "Epoch 258/400\n",
      "506/506 [==============================] - 0s 65us/step - loss: 62.0166 - accuracy: 0.0178\n",
      "Epoch 259/400\n",
      "506/506 [==============================] - 0s 65us/step - loss: 61.5396 - accuracy: 0.0178\n",
      "Epoch 260/400\n",
      "506/506 [==============================] - 0s 71us/step - loss: 61.4478 - accuracy: 0.0138\n",
      "Epoch 261/400\n",
      "506/506 [==============================] - 0s 71us/step - loss: 61.6921 - accuracy: 0.0059\n",
      "Epoch 262/400\n",
      "506/506 [==============================] - 0s 61us/step - loss: 61.6150 - accuracy: 0.0119\n",
      "Epoch 263/400\n",
      "506/506 [==============================] - 0s 65us/step - loss: 61.1927 - accuracy: 0.0178\n",
      "Epoch 264/400\n",
      "506/506 [==============================] - 0s 65us/step - loss: 61.2179 - accuracy: 0.0099\n",
      "Epoch 265/400\n",
      "506/506 [==============================] - 0s 67us/step - loss: 60.0075 - accuracy: 0.0158\n",
      "Epoch 266/400\n",
      "506/506 [==============================] - 0s 65us/step - loss: 60.0424 - accuracy: 0.0158\n",
      "Epoch 267/400\n",
      "506/506 [==============================] - 0s 67us/step - loss: 60.5819 - accuracy: 0.0079\n",
      "Epoch 268/400\n",
      "506/506 [==============================] - 0s 65us/step - loss: 60.0850 - accuracy: 0.0158\n",
      "Epoch 269/400\n",
      "506/506 [==============================] - 0s 71us/step - loss: 58.6165 - accuracy: 0.0178\n",
      "Epoch 270/400\n",
      "506/506 [==============================] - 0s 71us/step - loss: 58.8216 - accuracy: 0.0079\n",
      "Epoch 271/400\n",
      "506/506 [==============================] - 0s 67us/step - loss: 58.4761 - accuracy: 0.0138\n",
      "Epoch 272/400\n",
      "506/506 [==============================] - 0s 67us/step - loss: 58.8612 - accuracy: 0.0099\n",
      "Epoch 273/400\n",
      "506/506 [==============================] - 0s 69us/step - loss: 59.0527 - accuracy: 0.0099\n",
      "Epoch 274/400\n",
      "506/506 [==============================] - 0s 71us/step - loss: 59.0898 - accuracy: 0.0079\n",
      "Epoch 275/400\n",
      "506/506 [==============================] - 0s 89us/step - loss: 58.7721 - accuracy: 0.0079\n",
      "Epoch 276/400\n",
      "506/506 [==============================] - 0s 89us/step - loss: 57.7121 - accuracy: 0.0099\n",
      "Epoch 277/400\n",
      "506/506 [==============================] - 0s 106us/step - loss: 57.9725 - accuracy: 0.0119\n",
      "Epoch 278/400\n",
      "506/506 [==============================] - 0s 106us/step - loss: 57.8992 - accuracy: 0.0059\n",
      "Epoch 279/400\n",
      "506/506 [==============================] - 0s 81us/step - loss: 57.8590 - accuracy: 0.0158\n",
      "Epoch 280/400\n",
      "506/506 [==============================] - 0s 81us/step - loss: 58.5019 - accuracy: 0.0119\n",
      "Epoch 281/400\n",
      "506/506 [==============================] - 0s 85us/step - loss: 57.8697 - accuracy: 0.0119\n",
      "Epoch 282/400\n",
      "506/506 [==============================] - 0s 77us/step - loss: 58.0181 - accuracy: 0.0119\n",
      "Epoch 283/400\n",
      "506/506 [==============================] - 0s 81us/step - loss: 58.1570 - accuracy: 0.0079\n",
      "Epoch 284/400\n",
      "506/506 [==============================] - 0s 77us/step - loss: 57.9062 - accuracy: 0.0099\n",
      "Epoch 285/400\n",
      "506/506 [==============================] - 0s 110us/step - loss: 57.7702 - accuracy: 0.0119\n",
      "Epoch 286/400\n",
      "506/506 [==============================] - 0s 95us/step - loss: 57.4703 - accuracy: 0.0158\n",
      "Epoch 287/400\n",
      "506/506 [==============================] - 0s 81us/step - loss: 57.3866 - accuracy: 0.0079\n",
      "Epoch 288/400\n",
      "506/506 [==============================] - 0s 83us/step - loss: 58.3158 - accuracy: 0.0119\n",
      "Epoch 289/400\n",
      "506/506 [==============================] - 0s 89us/step - loss: 57.9057 - accuracy: 0.0119\n",
      "Epoch 290/400\n",
      "506/506 [==============================] - 0s 85us/step - loss: 57.7326 - accuracy: 0.0158\n",
      "Epoch 291/400\n",
      "506/506 [==============================] - 0s 81us/step - loss: 57.9708 - accuracy: 0.0158\n",
      "Epoch 292/400\n",
      "506/506 [==============================] - 0s 75us/step - loss: 57.9878 - accuracy: 0.0099\n",
      "Epoch 293/400\n",
      "506/506 [==============================] - 0s 75us/step - loss: 58.1866 - accuracy: 0.0099\n",
      "Epoch 294/400\n",
      "506/506 [==============================] - 0s 81us/step - loss: 58.0435 - accuracy: 0.0158\n",
      "Epoch 295/400\n",
      "506/506 [==============================] - 0s 77us/step - loss: 58.1431 - accuracy: 0.0198\n",
      "Epoch 296/400\n",
      "506/506 [==============================] - 0s 81us/step - loss: 58.0673 - accuracy: 0.0138\n",
      "Epoch 297/400\n",
      "506/506 [==============================] - 0s 75us/step - loss: 58.0995 - accuracy: 0.0158\n",
      "Epoch 298/400\n",
      "506/506 [==============================] - 0s 75us/step - loss: 57.9263 - accuracy: 0.0079\n",
      "Epoch 299/400\n",
      "506/506 [==============================] - 0s 83us/step - loss: 57.8592 - accuracy: 0.0099\n",
      "Epoch 300/400\n",
      "506/506 [==============================] - 0s 69us/step - loss: 57.8559 - accuracy: 0.0119\n",
      "Epoch 301/400\n",
      "506/506 [==============================] - 0s 77us/step - loss: 57.7927 - accuracy: 0.0079\n",
      "Epoch 302/400\n",
      "506/506 [==============================] - 0s 83us/step - loss: 57.8817 - accuracy: 0.0099\n",
      "Epoch 303/400\n",
      "506/506 [==============================] - 0s 79us/step - loss: 58.0923 - accuracy: 0.0158\n",
      "Epoch 304/400\n",
      "506/506 [==============================] - 0s 73us/step - loss: 58.1489 - accuracy: 0.0119\n",
      "Epoch 305/400\n",
      "506/506 [==============================] - 0s 79us/step - loss: 57.6709 - accuracy: 0.0119\n",
      "Epoch 306/400\n",
      "506/506 [==============================] - 0s 83us/step - loss: 57.6824 - accuracy: 0.0099\n",
      "Epoch 307/400\n",
      "506/506 [==============================] - 0s 83us/step - loss: 57.8086 - accuracy: 0.0099\n",
      "Epoch 308/400\n",
      "506/506 [==============================] - 0s 89us/step - loss: 57.8217 - accuracy: 0.0099\n",
      "Epoch 309/400\n",
      "506/506 [==============================] - 0s 95us/step - loss: 57.9298 - accuracy: 0.0178\n",
      "Epoch 310/400\n",
      "506/506 [==============================] - 0s 71us/step - loss: 58.0790 - accuracy: 0.0119\n",
      "Epoch 311/400\n",
      "506/506 [==============================] - 0s 83us/step - loss: 57.8603 - accuracy: 0.0119\n",
      "Epoch 312/400\n"
     ]
    },
    {
     "name": "stdout",
     "output_type": "stream",
     "text": [
      "506/506 [==============================] - 0s 75us/step - loss: 57.6627 - accuracy: 0.0099\n",
      "Epoch 313/400\n",
      "506/506 [==============================] - 0s 77us/step - loss: 57.8206 - accuracy: 0.0079\n",
      "Epoch 314/400\n",
      "506/506 [==============================] - 0s 79us/step - loss: 57.8119 - accuracy: 0.0138\n",
      "Epoch 315/400\n",
      "506/506 [==============================] - 0s 73us/step - loss: 57.5373 - accuracy: 0.0138\n",
      "Epoch 316/400\n",
      "506/506 [==============================] - 0s 75us/step - loss: 57.4789 - accuracy: 0.0119\n",
      "Epoch 317/400\n",
      "506/506 [==============================] - 0s 71us/step - loss: 58.0047 - accuracy: 0.0138\n",
      "Epoch 318/400\n",
      "506/506 [==============================] - 0s 73us/step - loss: 58.0099 - accuracy: 0.0158\n",
      "Epoch 319/400\n",
      "506/506 [==============================] - 0s 71us/step - loss: 57.9503 - accuracy: 0.0158\n",
      "Epoch 320/400\n",
      "506/506 [==============================] - 0s 71us/step - loss: 57.6880 - accuracy: 0.0099\n",
      "Epoch 321/400\n",
      "506/506 [==============================] - 0s 77us/step - loss: 58.1538 - accuracy: 0.0138\n",
      "Epoch 322/400\n",
      "506/506 [==============================] - 0s 75us/step - loss: 57.6264 - accuracy: 0.0059\n",
      "Epoch 323/400\n",
      "506/506 [==============================] - 0s 79us/step - loss: 57.8685 - accuracy: 0.0099\n",
      "Epoch 324/400\n",
      "506/506 [==============================] - 0s 67us/step - loss: 57.3624 - accuracy: 0.0099\n",
      "Epoch 325/400\n",
      "506/506 [==============================] - 0s 69us/step - loss: 57.7610 - accuracy: 0.0099\n",
      "Epoch 326/400\n",
      "506/506 [==============================] - 0s 67us/step - loss: 57.9407 - accuracy: 0.0158\n",
      "Epoch 327/400\n",
      "506/506 [==============================] - 0s 71us/step - loss: 57.4202 - accuracy: 0.0158\n",
      "Epoch 328/400\n",
      "506/506 [==============================] - 0s 67us/step - loss: 57.8240 - accuracy: 0.0119\n",
      "Epoch 329/400\n",
      "506/506 [==============================] - 0s 69us/step - loss: 57.6830 - accuracy: 0.0099\n",
      "Epoch 330/400\n",
      "506/506 [==============================] - 0s 67us/step - loss: 57.8362 - accuracy: 0.0138\n",
      "Epoch 331/400\n",
      "506/506 [==============================] - 0s 65us/step - loss: 57.9074 - accuracy: 0.0158\n",
      "Epoch 332/400\n",
      "506/506 [==============================] - 0s 67us/step - loss: 57.5899 - accuracy: 0.0138\n",
      "Epoch 333/400\n",
      "506/506 [==============================] - 0s 69us/step - loss: 57.9461 - accuracy: 0.0138\n",
      "Epoch 334/400\n",
      "506/506 [==============================] - 0s 75us/step - loss: 57.5878 - accuracy: 0.0079\n",
      "Epoch 335/400\n",
      "506/506 [==============================] - 0s 71us/step - loss: 57.9028 - accuracy: 0.0099\n",
      "Epoch 336/400\n",
      "506/506 [==============================] - 0s 67us/step - loss: 57.8637 - accuracy: 0.0079\n",
      "Epoch 337/400\n",
      "506/506 [==============================] - 0s 73us/step - loss: 57.9061 - accuracy: 0.0119\n",
      "Epoch 338/400\n",
      "506/506 [==============================] - 0s 67us/step - loss: 57.8612 - accuracy: 0.0138\n",
      "Epoch 339/400\n",
      "506/506 [==============================] - 0s 67us/step - loss: 57.7342 - accuracy: 0.0138\n",
      "Epoch 340/400\n",
      "506/506 [==============================] - 0s 69us/step - loss: 57.8326 - accuracy: 0.0099\n",
      "Epoch 341/400\n",
      "506/506 [==============================] - 0s 69us/step - loss: 57.7256 - accuracy: 0.0119\n",
      "Epoch 342/400\n",
      "506/506 [==============================] - ETA: 0s - loss: 107.0173 - accuracy: 0.06 - 0s 69us/step - loss: 57.6303 - accuracy: 0.0158\n",
      "Epoch 343/400\n",
      "506/506 [==============================] - 0s 67us/step - loss: 57.7327 - accuracy: 0.0079\n",
      "Epoch 344/400\n",
      "506/506 [==============================] - 0s 71us/step - loss: 57.8788 - accuracy: 0.0079\n",
      "Epoch 345/400\n",
      "506/506 [==============================] - 0s 69us/step - loss: 57.7149 - accuracy: 0.0178\n",
      "Epoch 346/400\n",
      "506/506 [==============================] - 0s 67us/step - loss: 57.3675 - accuracy: 0.0138\n",
      "Epoch 347/400\n",
      "506/506 [==============================] - 0s 69us/step - loss: 58.0681 - accuracy: 0.0099\n",
      "Epoch 348/400\n",
      "506/506 [==============================] - 0s 65us/step - loss: 58.1418 - accuracy: 0.0198\n",
      "Epoch 349/400\n",
      "506/506 [==============================] - 0s 71us/step - loss: 57.9579 - accuracy: 0.0138\n",
      "Epoch 350/400\n",
      "506/506 [==============================] - 0s 69us/step - loss: 57.7060 - accuracy: 0.0138\n",
      "Epoch 351/400\n",
      "506/506 [==============================] - 0s 71us/step - loss: 57.7179 - accuracy: 0.0178\n",
      "Epoch 352/400\n",
      "506/506 [==============================] - 0s 65us/step - loss: 57.5564 - accuracy: 0.0119\n",
      "Epoch 353/400\n",
      "506/506 [==============================] - 0s 67us/step - loss: 57.7058 - accuracy: 0.0119\n",
      "Epoch 354/400\n",
      "506/506 [==============================] - 0s 69us/step - loss: 57.5887 - accuracy: 0.0198\n",
      "Epoch 355/400\n",
      "506/506 [==============================] - 0s 67us/step - loss: 57.8751 - accuracy: 0.0099\n",
      "Epoch 356/400\n",
      "506/506 [==============================] - 0s 69us/step - loss: 56.2676 - accuracy: 0.0099\n",
      "Epoch 357/400\n",
      "506/506 [==============================] - 0s 73us/step - loss: 56.6494 - accuracy: 0.0119\n",
      "Epoch 358/400\n",
      "506/506 [==============================] - 0s 65us/step - loss: 54.2530 - accuracy: 0.0119\n",
      "Epoch 359/400\n",
      "506/506 [==============================] - 0s 67us/step - loss: 54.4677 - accuracy: 0.0099\n",
      "Epoch 360/400\n",
      "506/506 [==============================] - 0s 67us/step - loss: 56.2646 - accuracy: 0.0040\n",
      "Epoch 361/400\n",
      "506/506 [==============================] - 0s 73us/step - loss: 55.2992 - accuracy: 0.0059\n",
      "Epoch 362/400\n",
      "506/506 [==============================] - 0s 69us/step - loss: 58.2068 - accuracy: 0.0079\n",
      "Epoch 363/400\n",
      "506/506 [==============================] - 0s 67us/step - loss: 52.5350 - accuracy: 0.0178\n",
      "Epoch 364/400\n",
      "506/506 [==============================] - 0s 65us/step - loss: 52.4885 - accuracy: 0.0119\n",
      "Epoch 365/400\n",
      "506/506 [==============================] - 0s 67us/step - loss: 51.7353 - accuracy: 0.0059\n",
      "Epoch 366/400\n",
      "506/506 [==============================] - 0s 67us/step - loss: 51.4249 - accuracy: 0.0059\n",
      "Epoch 367/400\n",
      "506/506 [==============================] - 0s 67us/step - loss: 50.9530 - accuracy: 0.0059\n",
      "Epoch 368/400\n",
      "506/506 [==============================] - 0s 69us/step - loss: 51.8930 - accuracy: 0.0099\n",
      "Epoch 369/400\n",
      "506/506 [==============================] - 0s 69us/step - loss: 56.0826 - accuracy: 0.0059\n",
      "Epoch 370/400\n",
      "506/506 [==============================] - 0s 69us/step - loss: 59.1288 - accuracy: 0.0099\n",
      "Epoch 371/400\n",
      "506/506 [==============================] - 0s 69us/step - loss: 64.2889 - accuracy: 0.0119\n",
      "Epoch 372/400\n",
      "506/506 [==============================] - 0s 65us/step - loss: 63.8813 - accuracy: 0.0040\n",
      "Epoch 373/400\n",
      "506/506 [==============================] - 0s 67us/step - loss: 63.5959 - accuracy: 0.0138\n",
      "Epoch 374/400\n",
      "506/506 [==============================] - 0s 65us/step - loss: 61.8766 - accuracy: 0.0079\n",
      "Epoch 375/400\n",
      "506/506 [==============================] - 0s 69us/step - loss: 61.9483 - accuracy: 0.0138\n",
      "Epoch 376/400\n",
      "506/506 [==============================] - 0s 67us/step - loss: 61.6447 - accuracy: 0.0099\n",
      "Epoch 377/400\n",
      "506/506 [==============================] - 0s 63us/step - loss: 61.9823 - accuracy: 0.0138\n",
      "Epoch 378/400\n",
      "506/506 [==============================] - 0s 65us/step - loss: 62.2800 - accuracy: 0.0198\n",
      "Epoch 379/400\n",
      "506/506 [==============================] - 0s 67us/step - loss: 61.2046 - accuracy: 0.0099\n",
      "Epoch 380/400\n",
      "506/506 [==============================] - 0s 69us/step - loss: 61.9697 - accuracy: 0.0099\n",
      "Epoch 381/400\n",
      "506/506 [==============================] - 0s 69us/step - loss: 61.8498 - accuracy: 0.0079\n",
      "Epoch 382/400\n",
      "506/506 [==============================] - 0s 67us/step - loss: 61.1362 - accuracy: 0.0178\n",
      "Epoch 383/400\n",
      "506/506 [==============================] - 0s 69us/step - loss: 61.5724 - accuracy: 0.0099\n",
      "Epoch 384/400\n",
      "506/506 [==============================] - 0s 69us/step - loss: 61.6805 - accuracy: 0.0119\n",
      "Epoch 385/400\n",
      "506/506 [==============================] - 0s 71us/step - loss: 61.6635 - accuracy: 0.0079\n",
      "Epoch 386/400\n",
      "506/506 [==============================] - 0s 71us/step - loss: 60.8844 - accuracy: 0.0178\n",
      "Epoch 387/400\n",
      "506/506 [==============================] - 0s 69us/step - loss: 61.7535 - accuracy: 0.0059\n",
      "Epoch 388/400\n",
      "506/506 [==============================] - 0s 67us/step - loss: 61.4713 - accuracy: 0.0119\n",
      "Epoch 389/400\n",
      "506/506 [==============================] - 0s 85us/step - loss: 61.5628 - accuracy: 0.0119\n",
      "Epoch 390/400\n",
      "506/506 [==============================] - 0s 85us/step - loss: 61.8133 - accuracy: 0.0040\n",
      "Epoch 391/400\n",
      "506/506 [==============================] - 0s 71us/step - loss: 61.3112 - accuracy: 0.0079\n",
      "Epoch 392/400\n",
      "506/506 [==============================] - 0s 67us/step - loss: 61.0391 - accuracy: 0.0099\n",
      "Epoch 393/400\n",
      "506/506 [==============================] - 0s 71us/step - loss: 61.3609 - accuracy: 0.0059\n",
      "Epoch 394/400\n",
      "506/506 [==============================] - 0s 69us/step - loss: 61.5079 - accuracy: 0.0138\n",
      "Epoch 395/400\n",
      "506/506 [==============================] - 0s 75us/step - loss: 61.3194 - accuracy: 0.0099\n",
      "Epoch 396/400\n",
      "506/506 [==============================] - 0s 71us/step - loss: 61.6976 - accuracy: 0.0079\n",
      "Epoch 397/400\n",
      "506/506 [==============================] - 0s 65us/step - loss: 61.2702 - accuracy: 0.0079\n",
      "Epoch 398/400\n",
      "506/506 [==============================] - 0s 69us/step - loss: 61.1927 - accuracy: 0.0099\n",
      "Epoch 399/400\n",
      "506/506 [==============================] - 0s 67us/step - loss: 61.3787 - accuracy: 0.0079\n",
      "Epoch 400/400\n",
      "506/506 [==============================] - ETA: 0s - loss: 53.4101 - accuracy: 0.0000e+0 - 0s 65us/step - loss: 61.3791 - accuracy: 0.0138\n"
     ]
    },
    {
     "data": {
      "text/plain": [
       "<keras.callbacks.callbacks.History at 0x13cb821c518>"
      ]
     },
     "execution_count": 43,
     "metadata": {},
     "output_type": "execute_result"
    }
   ],
   "source": [
    "m.fit(inputs, output, epochs=400, batch_size=15)"
   ]
  },
  {
   "cell_type": "code",
   "execution_count": 40,
   "metadata": {},
   "outputs": [
    {
     "name": "stderr",
     "output_type": "stream",
     "text": [
      "C:\\Users\\Dermot\\Anaconda3\\lib\\site-packages\\ipykernel_launcher.py:1: FutureWarning: Method .as_matrix will be removed in a future version. Use .values instead.\n",
      "  \"\"\"Entry point for launching an IPython kernel.\n"
     ]
    },
    {
     "data": {
      "text/plain": [
       "array([[  3.7,  -0.3,   0.4,  -0.4,  -2. ,  -3.8,  -2.3,  -9.4,  -2.7,\n",
       "         -0.2,   2.6,   1.1,  -0.6,   0.6,   0.5,   1.3,   0.3,  -0.7,\n",
       "          0.9,   1.3,   0.1,  -3.4,  -1.4,  -0.8,  -1.2,   3. ,  -0.9,\n",
       "          1.8,  -0.7,  -3. ,   1.2,   1.6,   3.4,   0.7,   3.1,   2.8,\n",
       "          1.6,   1.2,  -2.6,   1.9,   5.1,   5.1,   1.1,   0.6,   1. ,\n",
       "          1.8,   0.9,   2.8,  -0.7,   0. ,   1.3,   0.8,   4.2,   1.1,\n",
       "          0.1,   4. ,  -0.7,  -0.1,   1.3,   3.2,   0.8,   3.5,   0.8,\n",
       "          1.3,  -5.6,   4. ,   4.5,   0.4,   3.3,   0.2,   2.6,   3.2,\n",
       "          3.3,   2.2,   2.6,   1.5,   0.7,   0.4,  -0.5,   2.1,  -0.3,\n",
       "          1.1,   0.3,   0.4,  -1.4,   0.8,  -1.4,   3.3,   3.5,   3.4,\n",
       "          2.4,   2.8,   1.5,   1.6,   1.8,  -0.8,   3.4,   1.5,   0.4,\n",
       "         -0.9,  -6.3,  -3.1,   6.8,  -0.1,  -1. ,  -0.7,  -2. ,  -1.2,\n",
       "         -0.7,  -0.7,  -1.1,  -1.8,   0.7,   0.7,   1.8,   1.1,  -1.3,\n",
       "          0.8,  -1. ,   0.2,  -1.1,  -0.5,  -1.3,  -0.8,  -0.2,  -1.6,\n",
       "          0.8,  -2. ,   0.2,   0.2,   0.7,   0.3,  -3.1,  -3.2,  -0.1,\n",
       "         -2.5,  -2.5,   2.6,   1.6,  -2.9,   0.9,  -0.5,   1.2,  -0.8,\n",
       "          2.9,  -1.2,  -0.2,   0.2,  -2.9,  -0. ,  -1.7,  -2.2,   1. ,\n",
       "         -2.9,  -0.9,  -1.8,   2.2,  -5.9,  -1.7,  -5.1,  -3.2,  -0.8,\n",
       "        -13.9, -20.1,  -5.4,  -2.9,  -3.7,  -1.8,  -1.9,  -1.5,   0.9,\n",
       "         -2.4,   0.1,   1.2,   2.4,   2.3,   2.4,   2.1,   0.8,  -4.8,\n",
       "         -4.9, -10.7,  -6.5,  -6. ,  -3.3,  -5.2,  -2.7,  -0.8,   2.6,\n",
       "         -1.2,  -0.4,   2.3,   0.5,   4.7,   5.2,  -1.5,   8.4,   2.5,\n",
       "          2.8,   1.6,   6. ,   1.8,   2.2,   0.5,  -0.9,   0.5,  -1.9,\n",
       "         -3.4,  -4.1,  -3.6,  -1.8,  -2.6,  -2.5,  -3. ,  -4.3,  -1.9,\n",
       "         -1.1,  -4.6,  -2.2,  -2.5,  -0.8,  -0.8,  -2. ,  -3.4,   4.4,\n",
       "         -0.9,   4. ,   0.8,   2.5,   6.5,  -1.3,   1.5,   7.8,   1.1,\n",
       "         -1.7,  -0. ,  -1.2,   2.7,   6.5,   4. ,   1.5,   2. ,   0.3,\n",
       "          5.5,   1.9,   0.5,  -0.8,  -0.5,  -0.9,   0.3,   2.3,   2.6,\n",
       "          4.2,   3.4,   1.5,   0.7,   1.7,  -2.3,  -1.7,  -1.8,  -2.1,\n",
       "         -7.4,  -1.7,  -2.5,  -2.4,   1.6,  -3.9,  -0.9,   3.6,   0.4,\n",
       "         -0.2,   1.3,   1.8,  -0.6,  -0.1,   1.2,  -0.1,  -0.6,  -1.5,\n",
       "         -1.9,   1.4,   0.9,  -7.8,  -4.8,   3.7,   2.4,   2.3,   2. ,\n",
       "          2.6,   2.3,   4.8,   2.1,   4.8,   1.3,   1.4,  -0.3,  -0.7,\n",
       "          0.4,   7.4,   9.4,   4.1,   4.5,   3.9,   3.5,  -0.4,   1.3,\n",
       "          0.5,   3.9,   3. ,  -0.4,   4.6,   1.9,   0. ,   0.8,  -2.4,\n",
       "          3.2,  -2.1,  -1.2,  -1.2,  -1. ,  -0.7,  -0.2,   2.4,   0.9,\n",
       "          0. ,   2.4,   2.9,  -1.5,   2.1,   1.4,   1.9,   3.7,   5. ,\n",
       "          3. ,   4.2,   2.1,   2.9,   1.9,   2.2,   3.7,   3.5,   2.7,\n",
       "          4.7,   1.6,   4.7,   3.2,   3.2,   1.5,   5.7,  -0.1,  -0. ,\n",
       "          0.5,   3.6,  -2. ,   3.3,   1. ,  -7.2,  -7. ,  -7.2,  -2.9,\n",
       "          0.9,  -1.1,  -1.3,  -5. ,  15.7,  -2.3,  -2.3,  -1.9,  -9.3,\n",
       "         -5.2,  -5.3,  -9.4, -19.8,  -3.8,  -3.8,   2.2,  -2.7,  -2.3,\n",
       "         -3.1,   0. ,   2. ,  -0.1,  -1.3,  -2.3,   1.7,   2.8,  -0.5,\n",
       "          2.6,  -0.2,  -0.4,  -3.2,  -9. ,   0.3,   1.3,  -0.9,  -0.8,\n",
       "         -0.3,   3.3,   5. ,   4.2,   4.4,   3.8,   0. ,   2.6,   1.4,\n",
       "          3.9,   1.6,  -7.7,  -1.8,  -8.6,   5.9,   2.8,   1.1,   1.1,\n",
       "          2.6,   4.3,   7.2,   4.4,   2.1,   8.3,  -0.6,   4. ,   0.7,\n",
       "          5.3,  10.4,   8. ,  13.8,   7.7,   7.7,   6.4,   7.2,   5.9,\n",
       "         16. ,  10.9,  10.2,  -0.4,   8. ,   4. ,   2.6,  -1.6,   0.8,\n",
       "         -5.6,  -2.7,  -3.6,   0.6,   2.8,   0.5,   3. ,  -1.4,  -0.1,\n",
       "         12.6,   0.7,  -0.3,  -2.6,   6.4,  10.8,   6.4,  10.8,   3.8,\n",
       "         -3.2,   2.5,  -0.3,  -1.5,   0.4,  -1.1,   3.5,   1.2,  -1.6,\n",
       "         -0.7,   0.9,  -0.6,   5. ,  -0.7,   5.1,   4.9,   3.9,  -4.2,\n",
       "         -1.5,  -2. ,  -2.9,   2.5,   5.9,   4.9,   2.6,   2.6,   3.9,\n",
       "          1.5,   3.6,  -2.3,   5.4,   4.5,   0.4,  -6. ,  -1.4,  -4. ,\n",
       "         -2.6,  -5.4,   0.9,  -1.8,   1.8,   1.9,  -1.9,  -1. ,  -1.7,\n",
       "         -1.3,   7.8]])"
      ]
     },
     "execution_count": 40,
     "metadata": {},
     "output_type": "execute_result"
    }
   ],
   "source": [
    "np.round(m.predict(inputs).T - output.as_matrix(), 1)\n"
   ]
  },
  {
   "cell_type": "code",
   "execution_count": null,
   "metadata": {
    "scrolled": true
   },
   "outputs": [],
   "source": [
    "bostonDF.describe()"
   ]
  },
  {
   "cell_type": "markdown",
   "metadata": {},
   "source": [
    "There are too many variables for a readable pairwise plot, we will select some variables that may correlate with median house price"
   ]
  },
  {
   "cell_type": "markdown",
   "metadata": {},
   "source": [
    "Dropped chas as it is categorical, not suitable for correlation analysis"
   ]
  },
  {
   "cell_type": "code",
   "execution_count": null,
   "metadata": {},
   "outputs": [],
   "source": [
    "bostonPair = bostonDF.drop(['CHAS'], axis='columns')"
   ]
  },
  {
   "cell_type": "code",
   "execution_count": null,
   "metadata": {},
   "outputs": [],
   "source": [
    "sns.pairplot(bostonPair)"
   ]
  },
  {
   "cell_type": "code",
   "execution_count": null,
   "metadata": {},
   "outputs": [],
   "source": [
    "plt.scatter(x=bostonDF['MEDV'], y=bostonDF['LSTAT'])"
   ]
  },
  {
   "cell_type": "code",
   "execution_count": null,
   "metadata": {},
   "outputs": [],
   "source": [
    "plt.scatter(x=bostonDF['MEDV'], y=bostonDF['PTRATIO'])"
   ]
  },
  {
   "cell_type": "code",
   "execution_count": null,
   "metadata": {},
   "outputs": [],
   "source": [
    "plt.scatter(x=bostonDF['MEDV'], y=bostonDF['RM'])"
   ]
  },
  {
   "cell_type": "code",
   "execution_count": null,
   "metadata": {},
   "outputs": [],
   "source": [
    "plt.scatter(x=bostonDF['MEDV'], y=bostonDF['CRIM'])"
   ]
  },
  {
   "cell_type": "code",
   "execution_count": null,
   "metadata": {},
   "outputs": [],
   "source": [
    "plt.scatter(x=bostonDF['MEDV'], y=bostonDF['ZN'])"
   ]
  },
  {
   "cell_type": "code",
   "execution_count": null,
   "metadata": {},
   "outputs": [],
   "source": [
    "sns.catplot(x=\"CHAS\", y=\"MEDV\", data=bostonDF)"
   ]
  },
  {
   "cell_type": "code",
   "execution_count": null,
   "metadata": {},
   "outputs": [],
   "source": [
    "sns.boxplot(x=\"CHAS\", y=\"MEDV\", data=bostonDF)"
   ]
  },
  {
   "cell_type": "code",
   "execution_count": null,
   "metadata": {},
   "outputs": [],
   "source": [
    "bostonFar = bostonDF.loc[bostonDF['CHAS'] == 0]\n",
    "bostonNear = bostonDF.loc[bostonDF['CHAS'] == 1]"
   ]
  },
  {
   "cell_type": "code",
   "execution_count": null,
   "metadata": {},
   "outputs": [],
   "source": [
    "sns.distplot(bostonFar['MEDV'])\n",
    "sns.distplot(bostonNear['MEDV'])"
   ]
  },
  {
   "cell_type": "code",
   "execution_count": null,
   "metadata": {},
   "outputs": [],
   "source": [
    "plt.scatter(x=bostonDF['MEDV'], y=bostonDF['LSTAT'])"
   ]
  },
  {
   "cell_type": "markdown",
   "metadata": {},
   "source": [
    "T Test assumptions"
   ]
  },
  {
   "cell_type": "markdown",
   "metadata": {},
   "source": [
    "1. Normality \n",
    "\n",
    "Show that they are largely normal"
   ]
  },
  {
   "cell_type": "markdown",
   "metadata": {},
   "source": [
    "2. unequal sample sizes, should check for The Assumption of Homogeneity of Variance"
   ]
  },
  {
   "cell_type": "code",
   "execution_count": null,
   "metadata": {},
   "outputs": [],
   "source": []
  },
  {
   "cell_type": "code",
   "execution_count": null,
   "metadata": {},
   "outputs": [],
   "source": [
    "bostonNear['CHAS'].shape"
   ]
  },
  {
   "cell_type": "code",
   "execution_count": null,
   "metadata": {
    "scrolled": true
   },
   "outputs": [],
   "source": [
    "bostonFar['CHAS'].shape"
   ]
  },
  {
   "cell_type": "code",
   "execution_count": null,
   "metadata": {},
   "outputs": [],
   "source": [
    "sns.distplot(bostonFar['MEDV'])\n"
   ]
  },
  {
   "cell_type": "markdown",
   "metadata": {},
   "source": [
    "(1) https://www.bizjournals.com/boston/news/2017/07/21/5-boston-neighborhoods-driving-mass-miracle-2-0.html\n",
    "\n",
    "(2) http://boston.neighborhoodx.com/lists/index?g=110\n",
    "\n",
    "(3) http://citeseerx.ist.psu.edu/viewdoc/download?doi=10.1.1.926.5532&rep=rep1&type=pdf\n",
    "\n",
    "(4) https://www.abs.gov.au/websitedbs/a3121120.nsf/home/statistical+language+-+measures+of+central+tendency\n",
    "\n",
    "(5) https://www.itl.nist.gov/div898/handbook/eda/section1/eda11.htm\n",
    "\n",
    "(6) Tukey, J. W. Exploratory Data Analysis: Addison-Wesley, 1977.\n",
    "\n",
    "(7) http://www.statstutor.ac.uk/resources/uploaded/tutorsquickguidetostatistics.pdf\n",
    "\n",
    "(8) https://statistics.laerd.com/spss-tutorials/independent-t-test-using-spss-statistics.php\n",
    "\n",
    "(9) http://www.ucd.ie/ecomodel/Resources/QQplots_WebVersion.html\n",
    "\n",
    "(10) https://variation.com/wp-content/distribution_analyzer_help/hs141.htm\n",
    "\n",
    "(11) https://statistics.laerd.com/spss-tutorials/mann-whitney-u-test-using-spss-statistics.php\n",
    "\n",
    "(12) http://sphweb.bumc.bu.edu/otlt/mph-modules/bs/bs704_nonparametric/BS704_Nonparametric4.html\n",
    "\n",
    "(13) https://scikit-learn.org/stable/modules/preprocessing.html\n",
    "\n",
    "(14) https://machinelearningmastery.com/feature-selection-machine-learning-python/\n",
    "\n",
    "(15) https://www.geeksforgeeks.org/chi-square-test-for-feature-selection-mathematical-explanation/\n",
    "\n",
    "(16) https://machinelearningmastery.com/how-to-improve-neural-network-stability-and-modeling-performance-with-data-scaling/\n"
   ]
  },
  {
   "cell_type": "code",
   "execution_count": null,
   "metadata": {},
   "outputs": [],
   "source": []
  }
 ],
 "metadata": {
  "kernelspec": {
   "display_name": "Python 3",
   "language": "python",
   "name": "python3"
  },
  "language_info": {
   "codemirror_mode": {
    "name": "ipython",
    "version": 3
   },
   "file_extension": ".py",
   "mimetype": "text/x-python",
   "name": "python",
   "nbconvert_exporter": "python",
   "pygments_lexer": "ipython3",
   "version": "3.7.3"
  }
 },
 "nbformat": 4,
 "nbformat_minor": 4
}
